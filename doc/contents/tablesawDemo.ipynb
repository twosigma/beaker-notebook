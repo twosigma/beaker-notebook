{
 "cells": [
  {
   "cell_type": "markdown",
   "metadata": {},
   "source": [
    "# Tablesaw \n",
    "\n",
    "[Tablesaw](https://tablesaw.tech/) is easy to add to the BeakerX Groovy kernel.\n",
    "Tablesaw provides the ability to easily transform, summarize, and filter data, as well as computing descriptive statistics and fundamental machine learning algorithms.\n",
    "\n",
    "This notebook has some basic demos of how to use Tablesaw, including visualizing the results.  This notebook uses the Beaker interactive visualizaiton libraries, but Tablesaw's APIs also work.  The notebook covers basic table manipulation, k-means clustering, and linear regression."
   ]
  },
  {
   "cell_type": "code",
   "execution_count": 3,
   "metadata": {},
   "outputs": [
    {
     "name": "stdout",
     "output_type": "stream",
     "text": [
      "Added jars: [smile-plot.jar, xchart.jar, filters.jar, swingx.jar, swing-worker.jar, tablesaw-smile.jar, VectorGraphics2D.jar, tablesaw-plot.jar]\n"
     ]
    }
   ],
   "source": [
    "%classpath add mvn tech.tablesaw tablesaw-plot 0.10.0\n",
    "%classpath add mvn tech.tablesaw tablesaw-smile 0.10.0\n",
    "%import tech.tablesaw.api.*\n",
    "%import tech.tablesaw.api.ml.clustering.*\n",
    "%import tech.tablesaw.api.ml.regression.*\n",
    "%import tech.tablesaw.columns.*    \n",
    "%import tech.tablesaw.reducing.*    "
   ]
  },
  {
   "cell_type": "code",
   "execution_count": null,
   "metadata": {
    "collapsed": true
   },
   "outputs": [],
   "source": [
    "tornadoes = Table.read().csv(\"Tablesaw/tornadoes_2014.csv\")"
   ]
  },
  {
   "cell_type": "code",
   "execution_count": null,
   "metadata": {
    "collapsed": true
   },
   "outputs": [],
   "source": [
    "//print dataset structure\n",
    "tornadoes.structure()"
   ]
  },
  {
   "cell_type": "code",
   "execution_count": null,
   "metadata": {
    "collapsed": true
   },
   "outputs": [],
   "source": [
    "//get header names\n",
    "tornadoes.columnNames()"
   ]
  },
  {
   "cell_type": "code",
   "execution_count": null,
   "metadata": {
    "collapsed": true
   },
   "outputs": [],
   "source": [
    "//displays the row and column counts\n",
    "tornadoes.shape()"
   ]
  },
  {
   "cell_type": "code",
   "execution_count": null,
   "metadata": {
    "collapsed": true
   },
   "outputs": [],
   "source": [
    "//displays the first n rows\n",
    "tornadoes.first(10)"
   ]
  },
  {
   "cell_type": "code",
   "execution_count": null,
   "metadata": {
    "collapsed": true
   },
   "outputs": [],
   "source": [
    "import static tech.tablesaw.api.QueryHelper.column\n",
    "tornadoes.structure().selectWhere(column(\"Column Type\").isEqualTo(\"FLOAT\"))"
   ]
  },
  {
   "cell_type": "code",
   "execution_count": null,
   "metadata": {
    "collapsed": true
   },
   "outputs": [],
   "source": [
    "//summarize the data in each column\n",
    "tornadoes.summary()"
   ]
  },
  {
   "cell_type": "code",
   "execution_count": null,
   "metadata": {
    "collapsed": true
   },
   "outputs": [],
   "source": [
    "//Mapping operations\n",
    "def month = tornadoes.dateColumn(\"Date\").month()\n",
    "tornadoes.addColumn(month);\n",
    "tornadoes.columnNames()"
   ]
  },
  {
   "cell_type": "code",
   "execution_count": null,
   "metadata": {
    "collapsed": true
   },
   "outputs": [],
   "source": [
    "//Sorting by column\n",
    "tornadoes.sortOn(\"-Fatalities\")"
   ]
  },
  {
   "cell_type": "code",
   "execution_count": null,
   "metadata": {
    "collapsed": true
   },
   "outputs": [],
   "source": [
    "//Descriptive statistics\n",
    "tornadoes.column(\"Fatalities\").summary()"
   ]
  },
  {
   "cell_type": "code",
   "execution_count": null,
   "metadata": {
    "collapsed": true
   },
   "outputs": [],
   "source": [
    "//Performing totals and sub-totals\n",
    "def injuriesByScale = tornadoes.median(\"Injuries\").by(\"Scale\")\n",
    "injuriesByScale.setName(\"Median injuries by Tornado Scale\")\n",
    "injuriesByScale"
   ]
  },
  {
   "cell_type": "code",
   "execution_count": null,
   "metadata": {
    "collapsed": true
   },
   "outputs": [],
   "source": [
    "//Cross Tabs\n",
    "CrossTab.xCount(tornadoes, tornadoes.categoryColumn(\"State\"), tornadoes.shortColumn(\"Scale\"))"
   ]
  },
  {
   "cell_type": "markdown",
   "metadata": {},
   "source": [
    "## K-means clustering\n",
    "\n",
    "K-means is the most common form of “centroid” clustering. Unlike classification, clustering is an unsupervised learning method. The categories are not predetermined. Instead, the goal is to search for natural groupings in the dataset, such that the members of each group are similar to each other and different from the members of the other groups. The K represents the number of groups to find.\n",
    "\n",
    "We’ll use a well known Scotch Whiskey dataset, which is used to cluster whiskeys according to their taste based on data collected from tasting notes. As always, we start by loading data and printing its structure.\n",
    "\n",
    "More description is available at https://jtablesaw.wordpress.com/2016/08/08/k-means-clustering-in-java/"
   ]
  },
  {
   "cell_type": "code",
   "execution_count": null,
   "metadata": {
    "collapsed": true
   },
   "outputs": [],
   "source": [
    "t = Table.read().csv(\"Tablesaw/whiskey.csv\")\n",
    "t.structure()"
   ]
  },
  {
   "cell_type": "code",
   "execution_count": null,
   "metadata": {
    "collapsed": true
   },
   "outputs": [],
   "source": [
    "model = new Kmeans(\n",
    "    5,\n",
    "    t.nCol(2), t.nCol(3), t.nCol(4), t.nCol(5), t.nCol(6), t.nCol(7),\n",
    "    t.nCol(8), t.nCol(9), t.nCol(10), t.nCol(11), t.nCol(12), t.nCol(13)\n",
    ");\n",
    "\n",
    "//print claster formation\n",
    "model.clustered(t.column(\"Distillery\"));"
   ]
  },
  {
   "cell_type": "code",
   "execution_count": null,
   "metadata": {
    "collapsed": true
   },
   "outputs": [],
   "source": [
    "//print centroids for each claster\n",
    "model.labeledCentroids();"
   ]
  },
  {
   "cell_type": "code",
   "execution_count": null,
   "metadata": {
    "collapsed": true
   },
   "outputs": [],
   "source": [
    "//gets the distortion for our model\n",
    "model.distortion()"
   ]
  },
  {
   "cell_type": "code",
   "execution_count": null,
   "metadata": {
    "collapsed": true
   },
   "outputs": [],
   "source": [
    "def n = t.rowCount();\n",
    "def kValues = new double[n - 2];\n",
    "def distortions = new double[n - 2];\n",
    "\n",
    "for (int k = 2; k < n; k++) {\n",
    "  kValues[k - 2] = k;\n",
    "  def kmeans = new Kmeans(k,\n",
    "      t.nCol(2), t.nCol(3), t.nCol(4), t.nCol(5), t.nCol(6), t.nCol(7),\n",
    "      t.nCol(8), t.nCol(9), t.nCol(10), t.nCol(11), t.nCol(12), t.nCol(13)\n",
    "  );\n",
    "  distortions[k - 2] = kmeans.distortion();\n",
    "}\n",
    "def linearYPlot = new Plot(title: \"K-means clustering demo\", xLabel:\"K\", yLabel: \"distortion\")\n",
    "linearYPlot << new Line(x: kValues, y: distortions)"
   ]
  },
  {
   "cell_type": "markdown",
   "metadata": {},
   "source": [
    "## Play (Money)ball with Linear Regression\n",
    "\n",
    "In baseball, you make the playoffs by winning more games than your rivals. The number of games the rivals win is out of your control so the A’s looked instead at how many wins it took historically to make the playoffs. They decided that 95 wins would give them a strong chance.  Here’s how we might check that assumption in Tablesaw.\n",
    "\n",
    "More description is available at https://jtablesaw.wordpress.com/2016/07/31/play-moneyball-data-science-in-tablesaw/"
   ]
  },
  {
   "cell_type": "code",
   "execution_count": null,
   "metadata": {
    "collapsed": true
   },
   "outputs": [],
   "source": [
    "import static tech.tablesaw.api.QueryHelper.column\n",
    "\n",
    "baseball = Table.read().csv(\"Tablesaw/baseball.csv\");\n",
    "\n",
    "// filter to the data available at the start of the 2002 season\n",
    "moneyball = baseball.selectWhere(column(\"year\").isLessThan(2002));\n",
    "wins = moneyball.nCol(\"W\");\n",
    "year = moneyball.nCol(\"Year\");\n",
    "playoffs = moneyball.column(\"Playoffs\");\n",
    "runDifference = moneyball.shortColumn(\"RS\").subtract(moneyball.shortColumn(\"RA\"));\n",
    "moneyball.addColumn(runDifference);\n",
    "runDifference.setName(\"RD\");\n",
    "\n",
    "def Plot = new Plot(title: \"RD x Wins\", xLabel:\"RD\", yLabel: \"W\")\n",
    "Plot << new Points(x: moneyball.numericColumn(\"RD\").toDoubleArray(), y: moneyball.numericColumn(\"W\").toDoubleArray())"
   ]
  },
  {
   "cell_type": "code",
   "execution_count": null,
   "metadata": {
    "collapsed": true
   },
   "outputs": [],
   "source": [
    "winsModel = LeastSquares.train(wins, runDifference);"
   ]
  },
  {
   "cell_type": "code",
   "execution_count": null,
   "metadata": {
    "collapsed": true
   },
   "outputs": [],
   "source": [
    "def runDiff = new double[1];\n",
    "runDiff[0] = 135;\n",
    "def expectedWins = winsModel.predict(runDiff);\n",
    "runsScored2 = LeastSquares.train(moneyball.nCol(\"RS\"), moneyball.nCol(\"OBP\"), moneyball.nCol(\"SLG\"));"
   ]
  },
  {
   "cell_type": "code",
   "execution_count": null,
   "metadata": {
    "collapsed": true
   },
   "outputs": [],
   "source": [
    "new Histogram(xLabel:\"X\",\n",
    "              yLabel:\"Proportion\",\n",
    "              data: Arrays.asList(runsScored2.residuals()), \n",
    "              binCount: 25);"
   ]
  },
  {
   "cell_type": "markdown",
   "metadata": {},
   "source": [
    "## Financial and Economic Data\n",
    "\n",
    "You can fetch data from [Quandl](https://www.quandl.com/) and load it directly into Tablesaw"
   ]
  },
  {
   "cell_type": "code",
   "execution_count": 1,
   "metadata": {},
   "outputs": [
    {
     "name": "stdout",
     "output_type": "stream",
     "text": [
      "Added jars: [RoaringBitmap.jar, javax.ws.rs-api.jar, threetenbp.jar, annotations.jar, jersey-guava.jar, tablesaw-core.jar, j2objc-annotations.jar, error_prone_annotations.jar, animal-sniffer-annotations.jar, commons-collections.jar, javassist.jar, kotlin-stdlib-jre7.jar, kotlin-stdlib.jar, javax.inject.jar, quandl-tablesaw.jar, smile-math.jar, jackson-annotations.jar, jsr305.jar, fastutil.jar, smile-graph.jar, jackson-databind.jar, kotlin-stdlib-jre8.jar, commons-lang3.jar, jersey-client.jar, commons-logging.jar, jackson-datatype-json-org.jar, smile-core.jar, commons-math3.jar, commons-text.jar, jersey-common.jar, guava.jar, opencsv.jar, gson.jar, slf4j-api.jar, quandl-core.jar, hk2-api.jar, osgi-resource-locator.jar, jackson-core.jar, json.jar, smile-data.jar, hk2-locator.jar, hk2-utils.jar, aopalliance-repackaged.jar, snappy.jar, javax.annotation-api.jar, commons-beanutils.jar]\n"
     ]
    }
   ],
   "source": [
    "%classpath add mvn com.jimmoores quandl-tablesaw 2.0.0\n",
    "%import com.jimmoores.quandl.*\n",
    "%import com.jimmoores.quandl.tablesaw.*"
   ]
  },
  {
   "cell_type": "code",
   "execution_count": 4,
   "metadata": {},
   "outputs": [
    {
     "data": {
      "text/plain": [
       "\n",
       " Year  |  Max [Close]  |  Min [Close]  |  Sum [Volume]   |   YearDate   |\n",
       "-------------------------------------------------------------------------\n",
       " 1980  |         36.0  |        25.25  |      6003800.0  |  1980-01-01  |\n",
       " 1981  |         34.5  |        14.25  |      3.65935E7  |  1981-01-01  |\n",
       " 1982  |        33.87  |         11.0  |    9.5379504E7  |  1982-01-01  |\n",
       " 1983  |        62.75  |        17.88  |     1.860744E8  |  1983-01-01  |\n",
       " 1984  |        33.25  |        21.87  |     1.874064E8  |  1984-01-01  |\n",
       " 1985  |        30.62  |         14.5  |   2.03094976E8  |  1985-01-01  |\n",
       " 1986  |        43.75  |        22.12  |   2.38050096E8  |  1986-01-01  |\n",
       " 1987  |        80.25  |         28.0  |   3.84217088E8  |  1987-01-01  |\n",
       " 1988  |        47.25  |        36.13  |   3.68687296E8  |  1988-01-01  |\n",
       " 1989  |        49.63  |        33.75  |   4.54516288E8  |  1989-01-01  |\n",
       " 1990  |        47.38  |         25.0  |   3.96445888E8  |  1990-01-01  |\n",
       " 1991  |        72.75  |        41.13  |   5.12032608E8  |  1991-01-01  |\n",
       " 1992  |        69.87  |        43.25  |   3.67302784E8  |  1992-01-01  |\n",
       " 1993  |         65.0  |        22.62  |      5.04044E8  |  1993-01-01  |\n",
       " 1994  |        43.25  |        25.12  |   5.10320512E8  |  1994-01-01  |\n",
       " 1995  |        49.38  |        31.87  |    6.6309408E8  |  1995-01-01  |\n",
       " 1996  |         35.0  |        16.87  |   4.74948416E8  |  1996-01-01  |\n",
       " 1997  |        29.19  |        12.94  |    6.4252998E8  |  1997-01-01  |\n",
       " 1998  |         43.0  |        15.88  |   1.02851962E9  |  1998-01-01  |\n",
       " 1999  |       117.81  |        32.19  |   1.22413133E9  |  1999-01-01  |\n",
       " 2000  |       144.19  |         14.0  |   1.67258214E9  |  2000-01-01  |\n",
       " 2001  |        26.59  |        14.88  |   1.69031782E9  |  2001-01-01  |\n",
       " 2002  |        26.11  |         13.6  |   1.37524864E9  |  2002-01-01  |\n",
       " 2003  |        24.82  |        13.12  |   1.27196877E9  |  2003-01-01  |\n",
       " 2004  |        68.44  |        21.28  |   2.17502976E9  |  2004-01-01  |\n",
       " 2005  |        90.13  |        34.13  |    5.6722284E9  |  2005-01-01  |\n",
       " 2006  |        91.81  |        50.67  |    7.7035346E9  |  2006-01-01  |\n",
       " 2007  |       199.83  |        83.27  |    8.8212849E9  |  2007-01-01  |\n",
       " 2008  |       194.93  |        80.49  |  1.02136146E10  |  2008-01-01  |\n",
       " 2009  |       211.64  |         78.2  |     5.116203E9  |  2009-01-01  |\n",
       " 2010  |       325.47  |       192.05  |    5.3937475E9  |  2010-01-01  |\n",
       " 2011  |       422.24  |       315.32  |    4.4306908E9  |  2011-01-01  |\n",
       " 2012  |        702.1  |       411.23  |    4.7130071E9  |  2012-01-01  |\n",
       " 2013  |       570.09  |       390.53  |   3.65791309E9  |  2013-01-01  |\n",
       " 2014  |       647.35  |        90.28  |    8.7340124E9  |  2014-01-01  |\n",
       " 2015  |        133.0  |       103.12  |  1.30643169E10  |  2015-01-01  |\n",
       " 2016  |       118.25  |        90.34  |    9.6858716E9  |  2016-01-01  |\n",
       " 2017  |       174.81  |       116.02  |    5.7473679E9  |  2017-01-01  |"
      ]
     },
     "execution_count": 4,
     "metadata": {},
     "output_type": "execute_result"
    }
   ],
   "source": [
    "TableSawQuandlSession session = TableSawQuandlSession.create();\n",
    "Table table = session.getDataSet(DataSetRequest.Builder.of(\"WIKI/AAPL\").build());\n",
    "// Create a new column containing the year\n",
    "ShortColumn yearColumn = table.dateColumn(\"Date\").year();\n",
    "yearColumn.setName(\"Year\");\n",
    "table.addColumn(yearColumn);\n",
    "// Create max, min and total volume tables aggregated by year\n",
    "Table summaryMax = table.max(\"Close\").by(\"year\");\n",
    "Table summaryMin = table.minimum(\"Close\").by(\"year\");\n",
    "Table summaryVolume = table.sum(\"Volume\").by(\"year\");\n",
    "// Create a new table from each of these\n",
    "summary = Table.create(\"Summary\", summaryMax.column(0), summaryMax.column(1), \n",
    "                       summaryMin.column(1), summaryVolume.column(1));\n",
    "// Add back a DateColumn to the summary...will be used for plotting\n",
    "DateColumn yearDates = new DateColumn(\"YearDate\");\n",
    "for(year in summary.column('Year')){\n",
    "    yearDates.append(java.time.LocalDate.of(year,1,1));\n",
    "}\n",
    "summary.addColumn(yearDates)\n",
    "\n",
    "summary"
   ]
  },
  {
   "cell_type": "code",
   "execution_count": 5,
   "metadata": {},
   "outputs": [
    {
     "data": {
      "application/vnd.jupyter.widget-view+json": {
       "model_id": "44a53fd2-ff99-4a11-934f-ca1089dfe710",
       "version_major": 2,
       "version_minor": 0
      },
      "method": "display_data"
     },
     "metadata": {},
     "output_type": "display_data"
    }
   ],
   "source": [
    "years = summary.column('YearDate').collect{ Date.from(it.atStartOfDay().atZone(java.time.ZoneId.systemDefault()).toInstant()) }\n",
    "\n",
    "plot = new TimePlot(title: 'Price Chart for AAPL', xLabel: 'Time', yLabel: 'Max [Close]')\n",
    "plot.add(new YAxis(label: 'Volume'))\n",
    "plot.add(new Points(x: years, y: summary.column('Max [Close]').collect()))\n",
    "plot.add(new Line(x: years, y: summary.column('Max [Close]').collect(), color: Color.blue))\n",
    "plot.add(new Bars(x: years, y: summary.column('Sum [Volume]').collect(), yAxis: 'Volume'))\n",
    "\n",
    "\n"
   ]
  }
 ],
 "metadata": {
  "anaconda-cloud": {},
  "kernelspec": {
   "display_name": "Groovy",
   "language": "groovy",
   "name": "groovy"
  },
  "language_info": {
   "codemirror_mode": "groovy",
   "file_extension": ".groovy",
   "mimetype": "",
   "name": "Groovy",
   "nbconverter_exporter": "",
   "version": "2.4.3"
  }
 },
 "nbformat": 4,
 "nbformat_minor": 2
}
