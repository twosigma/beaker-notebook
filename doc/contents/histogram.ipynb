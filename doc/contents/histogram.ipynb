{
 "cells": [
  {
   "cell_type": "markdown",
   "metadata": {},
   "source": [
    "# Histograms"
   ]
  },
  {
   "cell_type": "markdown",
   "metadata": {},
   "source": [
    "In a histogram, the height of each bar (bin) represents the number of data points that fall into its interval.\n",
    "They are generally used to show the distribution of a variable."
   ]
  },
  {
   "cell_type": "code",
   "execution_count": 1,
   "metadata": {},
   "outputs": [
    {
     "name": "stdout",
     "output_type": "stream",
     "text": [
      "-0.7081130028975886"
     ]
    }
   ],
   "source": [
    "// Generate some random data\n",
    "\n",
    "Random random = new Random();\n",
    "data1 = [];\n",
    "data2 = [];\n",
    "\n",
    "(1..10000).each {\n",
    "  data1 << random.nextGaussian();\n",
    "  data2 << 2*random.nextGaussian() + 1.0;\n",
    "}\n",
    "print(data1[7])\n",
    "OutputCell.HIDDEN"
   ]
  },
  {
   "cell_type": "code",
   "execution_count": null,
   "metadata": {
    "collapsed": true
   },
   "outputs": [],
   "source": []
  },
  {
   "cell_type": "code",
   "execution_count": 3,
   "metadata": {},
   "outputs": [
    {
     "data": {
      "application/vnd.jupyter.widget-view+json": {
       "model_id": "50b9df8e-f7ec-48da-bbbb-3710f4aa38d6",
       "version_major": "2",
       "version_minor": "0"
      },
      "method": "display_data"
     },
     "metadata": {},
     "output_type": "display_data"
    }
   ],
   "source": [
    "new Histogram(data: data1, binCount: 25);"
   ]
  },
  {
   "cell_type": "code",
   "execution_count": 4,
   "metadata": {},
   "outputs": [
    {
     "data": {
      "application/vnd.jupyter.widget-view+json": {
       "model_id": "4cc09bf2-ad51-4fde-b5d2-cd98d0d8512a",
       "version_major": "2",
       "version_minor": "0"
      },
      "method": "display_data"
     },
     "metadata": {},
     "output_type": "display_data"
    }
   ],
   "source": [
    "new Histogram(initWidth:800, initHeight:200,\n",
    "              title:\"Wide Histogram with Manual Parameters\",\n",
    "              xLabel:\"Size\",\n",
    "              yLabel:\"Count\",\n",
    "              rangeMin: -8, \n",
    "              rangeMax: 8, \n",
    "              data: data1 + [7]*200,\n",
    "              binCount: 99, \n",
    "              color: new Color(0, 154, 166));"
   ]
  },
  {
   "cell_type": "code",
   "execution_count": 5,
   "metadata": {},
   "outputs": [
    {
     "data": {
      "application/vnd.jupyter.widget-view+json": {
       "model_id": "fb713376-5077-41c3-aec0-806aefaa7e5f",
       "version_major": "2",
       "version_minor": "0"
      },
      "method": "display_data"
     },
     "metadata": {},
     "output_type": "display_data"
    }
   ],
   "source": [
    "new Histogram(title:\"Default is Overlap\",\n",
    "              data: [data1, data2],\n",
    "              binCount: 99,\n",
    "              names: [\"old and tired\", \"new and improved\"],\n",
    "              color: [new Color(0, 154, 166),\n",
    "                      new Color(230, 50, 50, 128) // transparent!\n",
    "                     ]);"
   ]
  },
  {
   "cell_type": "code",
   "execution_count": 11,
   "metadata": {},
   "outputs": [
    {
     "data": {
      "application/vnd.jupyter.widget-view+json": {
       "model_id": "376f96a9-3617-44a3-982d-4360bcc3f46a",
       "version_major": "2",
       "version_minor": "0"
      },
      "method": "display_data"
     },
     "metadata": {},
     "output_type": "display_data"
    }
   ],
   "source": [
    "new Histogram(title:\"Stack\",\n",
    "              showLegend: false,\n",
    "              displayMode: Histogram.DisplayMode.STACK,\n",
    "              data: [data1, data2],\n",
    "              binCount: 99)"
   ]
  },
  {
   "cell_type": "code",
   "execution_count": 7,
   "metadata": {},
   "outputs": [
    {
     "data": {
      "application/vnd.jupyter.widget-view+json": {
       "model_id": "f3625380-9fdc-4f98-baef-3723496797fd",
       "version_major": "2",
       "version_minor": "0"
      },
      "method": "display_data"
     },
     "metadata": {},
     "output_type": "display_data"
    }
   ],
   "source": [
    "new Histogram(title:\"Side by Side\",\n",
    "              displayMode: Histogram.DisplayMode.SIDE_BY_SIDE,\n",
    "              data: [data1,data2], \n",
    "              binCount: 55)"
   ]
  },
  {
   "cell_type": "code",
   "execution_count": 8,
   "metadata": {},
   "outputs": [
    {
     "data": {
      "application/vnd.jupyter.widget-view+json": {
       "model_id": "9a0cfdf8-9468-4ebf-9f60-c8d28295f871",
       "version_major": "2",
       "version_minor": "0"
      },
      "method": "display_data"
     },
     "metadata": {},
     "output_type": "display_data"
    }
   ],
   "source": [
    "new Histogram(title:\"Cumulative\",\n",
    "              cumulative: true,\n",
    "              data: data1,\n",
    "              binCount: 55);"
   ]
  },
  {
   "cell_type": "markdown",
   "metadata": {},
   "source": [
    "In a *normed* histogram , the height of the bars is scaled so the area under the histogram is unity."
   ]
  },
  {
   "cell_type": "code",
   "execution_count": 9,
   "metadata": {},
   "outputs": [
    {
     "data": {
      "application/vnd.jupyter.widget-view+json": {
       "model_id": "306dca04-ad26-4c84-9e70-0367cea42c2d",
       "version_major": "2",
       "version_minor": "0"
      },
      "method": "display_data"
     },
     "metadata": {},
     "output_type": "display_data"
    }
   ],
   "source": [
    "new Histogram(title:\"Normed, Area = 1.0\",\n",
    "              normed: true,\n",
    "              data: data1,\n",
    "              binCount: 55);"
   ]
  },
  {
   "cell_type": "code",
   "execution_count": 7,
   "metadata": {},
   "outputs": [
    {
     "data": {
      "application/vnd.jupyter.widget-view+json": {
       "model_id": "4d8dd2ba-5e68-4cec-8289-65f150d0e1c8",
       "version_major": "2",
       "version_minor": "0"
      },
      "method": "display_data"
     },
     "metadata": {},
     "output_type": "display_data"
    }
   ],
   "source": [
    "new Histogram(log: true,  \n",
    "              data: data1,\n",
    "              binCount: 99);"
   ]
  },
  {
   "cell_type": "code",
   "execution_count": null,
   "metadata": {
    "collapsed": true
   },
   "outputs": [],
   "source": []
  }
 ],
 "metadata": {
  "anaconda-cloud": {},
  "beakerx_kernel_parameters": {},
  "kernelspec": {
   "display_name": "Groovy",
   "language": "groovy",
   "name": "groovy"
  },
  "language_info": {
   "codemirror_mode": "groovy",
   "file_extension": ".groovy",
   "mimetype": "",
   "name": "Groovy",
   "nbconverter_exporter": "",
   "version": "2.4.3"
  }
 },
 "nbformat": 4,
 "nbformat_minor": 1
}
