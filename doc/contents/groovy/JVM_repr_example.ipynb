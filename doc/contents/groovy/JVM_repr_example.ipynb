{
 "cells": [
  {
   "cell_type": "markdown",
   "metadata": {},
   "source": [
    "# Custom Displayers and `jvm-repr`\n",
    "\n",
    "You can control the representation of a class using the Jupyter standard [`jvm-repr`](https://github.com/jupyter/jvm-repr) API.\n",
    "For example below we configure integers to be displayed with large heading text.\n",
    "See [Automatic Display for Tablesaw](contents/Tablesaw_display_as_TableDisplay.ipynb) for a more substantial example that creates an interactive widget, not just HTML."
   ]
  },
  {
   "cell_type": "code",
   "execution_count": 5,
   "metadata": {},
   "outputs": [
    {
     "data": {
      "text/plain": [
       "null"
      ]
     },
     "execution_count": 5,
     "metadata": {},
     "output_type": "execute_result"
    }
   ],
   "source": [
    "import jupyter.Displayer;\n",
    "import jupyter.Displayers;\n",
    "Displayers.register(Integer.class, new Displayer<Integer>() {\n",
    "      @Override\n",
    "      public Map<String, String> display(Integer value) {\n",
    "        return new HashMap<String, String>() {{\n",
    "          put(MIMEContainer.MIME.TEXT_HTML, \"<div><h1>\" + value + \"</h1></div>\");\n",
    "          \n",
    "        }};\n",
    "      }\n",
    "    });"
   ]
  },
  {
   "cell_type": "code",
   "execution_count": 6,
   "metadata": {},
   "outputs": [
    {
     "data": {
      "text/html": [
       "<div><h1>2</h1></div>"
      ]
     },
     "execution_count": 6,
     "metadata": {},
     "output_type": "execute_result"
    }
   ],
   "source": [
    "1+1"
   ]
  }
 ],
 "metadata": {
  "kernelspec": {
   "display_name": "Groovy",
   "language": "groovy",
   "name": "groovy"
  },
  "language_info": {
   "codemirror_mode": "groovy",
   "file_extension": ".groovy",
   "mimetype": "",
   "name": "Groovy",
   "nbconverter_exporter": "",
   "version": "2.4.3"
  }
 },
 "nbformat": 4,
 "nbformat_minor": 2
}
