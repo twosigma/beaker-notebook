{
 "cells": [
  {
   "cell_type": "markdown",
   "metadata": {},
   "source": [
    "# %classpath add mvn group name version"
   ]
  },
  {
   "cell_type": "code",
   "execution_count": 1,
   "metadata": {},
   "outputs": [
    {
     "name": "stdout",
     "output_type": "stream",
     "text": [
      "Added jars: [/tmp/beaker4728608913059877445/mvnJars/jackson-core.jar, /tmp/beaker4728608913059877445/mvnJars/jackson-databind.jar, /tmp/beaker4728608913059877445/mvnJars/jackson-annotations.jar]\n"
     ]
    }
   ],
   "source": [
    "%classpath add mvn com.fasterxml.jackson.core jackson-databind 2.6.5"
   ]
  },
  {
   "cell_type": "markdown",
   "metadata": {},
   "source": [
    "# Gson exmaple"
   ]
  },
  {
   "cell_type": "code",
   "execution_count": 2,
   "metadata": {},
   "outputs": [
    {
     "ename": "org.codehaus.groovy.control.MultipleCompilationErrorsException",
     "evalue": " startup failed",
     "output_type": "error",
     "traceback": [
      "\u001b[0;31morg.codehaus.groovy.control.MultipleCompilationErrorsException: startup failed:",
      "\u001b[0;31mscript15040159295941507788998.groovy: 1: unable to resolve class com.google.gson.Gson",
      "\u001b[0;31m @ line 1, column 1.",
      "\u001b[0;31m   import com.google.gson.Gson;",
      "\u001b[0;31m   ^",
      "\u001b[0;31m",
      "\u001b[0;31m1 error",
      "\u001b[0;31m",
      "\u001b[0;31m\tat com.twosigma.beakerx.groovy.evaluator.GroovyCodeRunner.run(GroovyCodeRunner.java:57)"
     ]
    }
   ],
   "source": [
    "import com.google.gson.Gson;"
   ]
  },
  {
   "cell_type": "code",
   "execution_count": 3,
   "metadata": {},
   "outputs": [
    {
     "name": "stdout",
     "output_type": "stream",
     "text": [
      "Added jar: [/tmp/beaker4728608913059877445/mvnJars/gson.jar]\n"
     ]
    }
   ],
   "source": [
    "%classpath add mvn com.google.code.gson gson 2.2.4"
   ]
  },
  {
   "cell_type": "code",
   "execution_count": 4,
   "metadata": {},
   "outputs": [
    {
     "data": {
      "text/plain": [
       "null"
      ]
     },
     "execution_count": 4,
     "metadata": {},
     "output_type": "execute_result"
    }
   ],
   "source": [
    "import com.google.gson.Gson;"
   ]
  },
  {
   "cell_type": "code",
   "execution_count": 5,
   "metadata": {},
   "outputs": [
    {
     "name": "stdout",
     "output_type": "stream",
     "text": [
      "\"Hello\""
     ]
    },
    {
     "data": {
      "text/plain": [
       "null"
      ]
     },
     "execution_count": 5,
     "metadata": {},
     "output_type": "execute_result"
    }
   ],
   "source": [
    "%classpath add mvn com.google.code.gson gson 2.2.4\n",
    "\n",
    "import com.google.gson.Gson;\n",
    "import com.google.gson.GsonBuilder;\n",
    "\n",
    "Gson gson = new GsonBuilder().create();\n",
    "gson.toJson(\"Hello\", System.out);"
   ]
  },
  {
   "cell_type": "markdown",
   "metadata": {},
   "source": [
    "# Error handling"
   ]
  },
  {
   "cell_type": "code",
   "execution_count": 8,
   "metadata": {},
   "outputs": [
    {
     "name": "stderr",
     "output_type": "stream",
     "text": [
      "[unresolved dependency: com.fasterxml.jackson.XXXXXXX#jackson-databind;2.6.5: not found]"
     ]
    }
   ],
   "source": [
    "%classpath add mvn com.fasterxml.jackson.XXXXXXX jackson-databind 2.6.5"
   ]
  },
  {
   "cell_type": "code",
   "execution_count": 9,
   "metadata": {},
   "outputs": [
    {
     "name": "stderr",
     "output_type": "stream",
     "text": [
      "Wrong command format, should be %classpath add mvn group name version"
     ]
    }
   ],
   "source": [
    "%classpath add mvn com.fasterxml.jackson.XXXXXXX jackson-databind"
   ]
  },
  {
   "cell_type": "code",
   "execution_count": null,
   "metadata": {
    "collapsed": true
   },
   "outputs": [],
   "source": []
  }
 ],
 "metadata": {
  "kernelspec": {
   "display_name": "Groovy",
   "language": "groovy",
   "name": "groovy"
  },
  "language_info": {
   "codemirror_mode": "groovy",
   "file_extension": ".groovy",
   "mimetype": "",
   "name": "Groovy",
   "nbconverter_exporter": "",
   "version": "2.4.3"
  }
 },
 "nbformat": 4,
 "nbformat_minor": 2
}
