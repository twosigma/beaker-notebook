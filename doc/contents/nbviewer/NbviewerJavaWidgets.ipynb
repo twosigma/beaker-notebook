{
 "cells": [
  {
   "cell_type": "code",
   "execution_count": 1,
   "metadata": {},
   "outputs": [
    {
     "data": {
      "application/vnd.jupyter.widget-view+json": {
       "model_id": "7013844e-2b84-4464-a3f3-c87b8bc67217"
      }
     },
     "metadata": {},
     "output_type": "display_data"
    }
   ],
   "source": [
    "import com.twosigma.beakerx.widgets.integers.IntSlider\n",
    "\n",
    "w = new IntSlider()\n",
    "w.value = 60\n",
    "w"
   ]
  },
  {
   "cell_type": "code",
   "execution_count": 2,
   "metadata": {},
   "outputs": [
    {
     "data": {
      "text/plain": [
       "60"
      ]
     },
     "execution_count": 2,
     "metadata": {},
     "output_type": "execute_result"
    }
   ],
   "source": [
    "w.value"
   ]
  },
  {
   "cell_type": "code",
   "execution_count": 3,
   "metadata": {},
   "outputs": [
    {
     "data": {
      "text/plain": [
       "76"
      ]
     },
     "execution_count": 3,
     "metadata": {},
     "output_type": "execute_result"
    }
   ],
   "source": [
    "w.value =76"
   ]
  },
  {
   "cell_type": "code",
   "execution_count": 4,
   "metadata": {},
   "outputs": [
    {
     "data": {
      "text/plain": [
       "desc1"
      ]
     },
     "execution_count": 4,
     "metadata": {},
     "output_type": "execute_result"
    }
   ],
   "source": [
    "w.description = \"desc1\""
   ]
  },
  {
   "cell_type": "code",
   "execution_count": 5,
   "metadata": {},
   "outputs": [
    {
     "data": {
      "text/plain": [
       "false"
      ]
     },
     "execution_count": 5,
     "metadata": {},
     "output_type": "execute_result"
    }
   ],
   "source": [
    "w.disabled = false\n",
    "//w.disabled = trw.tooltip = \"ToggleButton tooltip 2\"ue"
   ]
  },
  {
   "cell_type": "code",
   "execution_count": 6,
   "metadata": {},
   "outputs": [
    {
     "data": {
      "text/plain": [
       "50"
      ]
     },
     "execution_count": 6,
     "metadata": {},
     "output_type": "execute_result"
    }
   ],
   "source": [
    "w.max = 200\n",
    "w.min = 50"
   ]
  },
  {
   "cell_type": "code",
   "execution_count": 7,
   "metadata": {},
   "outputs": [
    {
     "data": {
      "text/plain": [
       "horizontal"
      ]
     },
     "execution_count": 7,
     "metadata": {},
     "output_type": "execute_result"
    }
   ],
   "source": [
    "w.orientation = \"horizontal\"\n",
    "//w.orientation = \"vertical\""
   ]
  },
  {
   "cell_type": "code",
   "execution_count": 8,
   "metadata": {},
   "outputs": [
    {
     "data": {
      "text/plain": [
       "#087636"
      ]
     },
     "execution_count": 8,
     "metadata": {},
     "output_type": "execute_result"
    }
   ],
   "source": [
    "w.slider_color = \"#087636\""
   ]
  },
  {
   "cell_type": "code",
   "execution_count": 9,
   "metadata": {},
   "outputs": [
    {
     "data": {
      "text/plain": [
       "20"
      ]
     },
     "execution_count": 9,
     "metadata": {},
     "output_type": "execute_result"
    }
   ],
   "source": [
    "w.step = 20"
   ]
  },
  {
   "cell_type": "code",
   "execution_count": 10,
   "metadata": {},
   "outputs": [
    {
     "data": {
      "text/plain": [
       "true"
      ]
     },
     "execution_count": 10,
     "metadata": {},
     "output_type": "execute_result"
    }
   ],
   "source": [
    "w.visible = true\n",
    "//w.visible = false"
   ]
  },
  {
   "cell_type": "code",
   "execution_count": 11,
   "metadata": {},
   "outputs": [
    {
     "data": {
      "application/vnd.jupyter.widget-view+json": {
       "model_id": "0ca5dfe7-3fd1-4341-a78e-6e7a194d0e31"
      }
     },
     "metadata": {},
     "output_type": "display_data"
    }
   ],
   "source": [
    "import com.twosigma.beakerx.widgets.integers.IntProgress\n",
    "bar = new IntProgress()\n",
    "bar.value = 10\n",
    "bar"
   ]
  },
  {
   "cell_type": "code",
   "execution_count": 12,
   "metadata": {},
   "outputs": [
    {
     "data": {
      "text/plain": [
       "10"
      ]
     },
     "execution_count": 12,
     "metadata": {},
     "output_type": "execute_result"
    }
   ],
   "source": [
    "bar.value"
   ]
  },
  {
   "cell_type": "code",
   "execution_count": 13,
   "metadata": {},
   "outputs": [
    {
     "data": {
      "text/plain": [
       "110"
      ]
     },
     "execution_count": 13,
     "metadata": {},
     "output_type": "execute_result"
    }
   ],
   "source": [
    "bar.value =110"
   ]
  },
  {
   "cell_type": "code",
   "execution_count": 14,
   "metadata": {},
   "outputs": [
    {
     "data": {
      "text/plain": [
       "50"
      ]
     },
     "execution_count": 14,
     "metadata": {},
     "output_type": "execute_result"
    }
   ],
   "source": [
    "bar.max = 300\n",
    "bar.min = 50"
   ]
  },
  {
   "cell_type": "code",
   "execution_count": 15,
   "metadata": {},
   "outputs": [
    {
     "data": {
      "text/plain": [
       "20"
      ]
     },
     "execution_count": 15,
     "metadata": {},
     "output_type": "execute_result"
    }
   ],
   "source": [
    "bar.step = 20"
   ]
  },
  {
   "cell_type": "code",
   "execution_count": 16,
   "metadata": {},
   "outputs": [
    {
     "data": {
      "text/plain": [
       "horizontal"
      ]
     },
     "execution_count": 16,
     "metadata": {},
     "output_type": "execute_result"
    }
   ],
   "source": [
    "bar.orientation = \"horizontal\"\n",
    "//bar.orientation = \"vertical\""
   ]
  },
  {
   "cell_type": "code",
   "execution_count": 17,
   "metadata": {},
   "outputs": [
    {
     "data": {
      "application/vnd.jupyter.widget-view+json": {
       "model_id": "8900dab6-dafb-4388-8d7f-fc786f6205cd"
      }
     },
     "metadata": {},
     "output_type": "display_data"
    }
   ],
   "source": [
    "import com.twosigma.beakerx.widgets.selections.RadioButtons\n",
    "rb = new RadioButtons()\n",
    "rb.options=['1', '2', '3', '4', '5']\n",
    "rb.value = \"4\"\n",
    "rb"
   ]
  },
  {
   "cell_type": "code",
   "execution_count": 18,
   "metadata": {},
   "outputs": [
    {
     "data": {
      "text/plain": [
       "4"
      ]
     },
     "execution_count": 18,
     "metadata": {},
     "output_type": "execute_result"
    }
   ],
   "source": [
    "rb.value"
   ]
  },
  {
   "cell_type": "code",
   "execution_count": 19,
   "metadata": {},
   "outputs": [
    {
     "data": {
      "text/plain": [
       "1"
      ]
     },
     "execution_count": 19,
     "metadata": {},
     "output_type": "execute_result"
    }
   ],
   "source": [
    "rb.value =\"1\""
   ]
  },
  {
   "cell_type": "code",
   "execution_count": 20,
   "metadata": {},
   "outputs": [
    {
     "data": {
      "application/vnd.jupyter.widget-view+json": {
       "model_id": "77d4f977-a557-4874-8f7c-aa1ec33795f6"
      }
     },
     "metadata": {},
     "output_type": "display_data"
    }
   ],
   "source": [
    "import com.twosigma.beakerx.widgets.selections.Select\n",
    "select = new Select()\n",
    "select.options=['Linux', 'Windows', 'OSX']\n",
    "select.value = \"Windows\"\n",
    "select"
   ]
  },
  {
   "cell_type": "code",
   "execution_count": 21,
   "metadata": {},
   "outputs": [
    {
     "data": {
      "text/plain": [
       "Windows"
      ]
     },
     "execution_count": 21,
     "metadata": {},
     "output_type": "execute_result"
    }
   ],
   "source": [
    "select.value"
   ]
  },
  {
   "cell_type": "code",
   "execution_count": 22,
   "metadata": {},
   "outputs": [
    {
     "data": {
      "text/plain": [
       "Linux"
      ]
     },
     "execution_count": 22,
     "metadata": {},
     "output_type": "execute_result"
    }
   ],
   "source": [
    "select.value = \"Linux\""
   ]
  },
  {
   "cell_type": "code",
   "execution_count": 23,
   "metadata": {},
   "outputs": [
    {
     "data": {
      "application/vnd.jupyter.widget-view+json": {
       "model_id": "ae4722ac-5498-4cee-9840-f2fdf8f78bb9"
      }
     },
     "metadata": {},
     "output_type": "display_data"
    }
   ],
   "source": [
    "import com.twosigma.beakerx.widgets.bools.Checkbox\n",
    "cb = new Checkbox()\n",
    "cb"
   ]
  },
  {
   "cell_type": "code",
   "execution_count": 24,
   "metadata": {},
   "outputs": [
    {
     "data": {
      "text/plain": [
       "false"
      ]
     },
     "execution_count": 24,
     "metadata": {},
     "output_type": "execute_result"
    }
   ],
   "source": [
    "cb.value"
   ]
  },
  {
   "cell_type": "code",
   "execution_count": 25,
   "metadata": {},
   "outputs": [
    {
     "data": {
      "text/plain": [
       "true"
      ]
     },
     "execution_count": 25,
     "metadata": {},
     "output_type": "execute_result"
    }
   ],
   "source": [
    "cb.value = true"
   ]
  },
  {
   "cell_type": "code",
   "execution_count": 26,
   "metadata": {},
   "outputs": [
    {
     "data": {
      "application/vnd.jupyter.widget-view+json": {
       "model_id": "411be3e0-6f75-4127-b261-1d10016d444e"
      }
     },
     "metadata": {},
     "output_type": "display_data"
    }
   ],
   "source": [
    "import com.twosigma.beakerx.widgets.ColorPicker\n",
    "cp = new ColorPicker()\n",
    "cp.value = \"blue\"\n",
    "cp"
   ]
  },
  {
   "cell_type": "code",
   "execution_count": 27,
   "metadata": {},
   "outputs": [
    {
     "data": {
      "text/plain": [
       "blue"
      ]
     },
     "execution_count": 27,
     "metadata": {},
     "output_type": "execute_result"
    }
   ],
   "source": [
    "cp.value"
   ]
  },
  {
   "cell_type": "code",
   "execution_count": 28,
   "metadata": {},
   "outputs": [
    {
     "data": {
      "text/plain": [
       "red"
      ]
     },
     "execution_count": 28,
     "metadata": {},
     "output_type": "execute_result"
    }
   ],
   "source": [
    "cp.value =\"red\""
   ]
  },
  {
   "cell_type": "code",
   "execution_count": 29,
   "metadata": {},
   "outputs": [
    {
     "data": {
      "text/plain": [
       "false"
      ]
     },
     "execution_count": 29,
     "metadata": {},
     "output_type": "execute_result"
    }
   ],
   "source": [
    "cp.concise = false\n",
    "//cp.concise = true"
   ]
  },
  {
   "cell_type": "code",
   "execution_count": 30,
   "metadata": {},
   "outputs": [
    {
     "data": {
      "application/vnd.jupyter.widget-view+json": {
       "model_id": "fbab2eba-7460-49c0-8bdf-9051ffaa8846"
      }
     },
     "metadata": {},
     "output_type": "display_data"
    }
   ],
   "source": [
    "import com.twosigma.beakerx.widgets.strings.Text\n",
    "t = new Text()\n",
    "t.value = \"Text example 1\"\n",
    "t"
   ]
  },
  {
   "cell_type": "code",
   "execution_count": 31,
   "metadata": {},
   "outputs": [
    {
     "data": {
      "text/plain": [
       "Text example 1"
      ]
     },
     "execution_count": 31,
     "metadata": {},
     "output_type": "execute_result"
    }
   ],
   "source": [
    "t.value"
   ]
  },
  {
   "cell_type": "code",
   "execution_count": 32,
   "metadata": {},
   "outputs": [
    {
     "data": {
      "text/plain": [
       "Text example 2"
      ]
     },
     "execution_count": 32,
     "metadata": {},
     "output_type": "execute_result"
    }
   ],
   "source": [
    "t.value =\"Text example 2\""
   ]
  },
  {
   "cell_type": "code",
   "execution_count": 33,
   "metadata": {},
   "outputs": [
    {
     "data": {
      "application/vnd.jupyter.widget-view+json": {
       "model_id": "9a672d39-356d-43a6-a944-4075ea4e3871"
      }
     },
     "metadata": {},
     "output_type": "display_data"
    }
   ],
   "source": [
    "import com.twosigma.beakerx.widgets.strings.Textarea\n",
    "ta = new Textarea()\n",
    "ta.value = \"Textarea example 1\"\n",
    "ta"
   ]
  },
  {
   "cell_type": "code",
   "execution_count": 34,
   "metadata": {},
   "outputs": [
    {
     "data": {
      "text/plain": [
       "Textarea example 1"
      ]
     },
     "execution_count": 34,
     "metadata": {},
     "output_type": "execute_result"
    }
   ],
   "source": [
    "ta.value"
   ]
  },
  {
   "cell_type": "code",
   "execution_count": 35,
   "metadata": {},
   "outputs": [
    {
     "data": {
      "text/plain": [
       "Textarea example 2"
      ]
     },
     "execution_count": 35,
     "metadata": {},
     "output_type": "execute_result"
    }
   ],
   "source": [
    "ta.value =\"Textarea example 2\""
   ]
  },
  {
   "cell_type": "code",
   "execution_count": 36,
   "metadata": {},
   "outputs": [
    {
     "data": {
      "application/vnd.jupyter.widget-view+json": {
       "model_id": "3ede64d3-ec8b-4829-91a4-faf9d4e949bf"
      }
     },
     "metadata": {},
     "output_type": "display_data"
    }
   ],
   "source": [
    "import com.twosigma.beakerx.widgets.bools.ToggleButton\n",
    "tb = new ToggleButton()\n",
    "tb.tooltip = \"ToggleButton tooltip 1\"\n",
    "tb.button_style = 'success'\n",
    "tb.icon='check'\n",
    "tb.description='Click me'\n",
    "tb"
   ]
  },
  {
   "cell_type": "code",
   "execution_count": 37,
   "metadata": {},
   "outputs": [
    {
     "data": {
      "text/plain": [
       "false"
      ]
     },
     "execution_count": 37,
     "metadata": {},
     "output_type": "execute_result"
    }
   ],
   "source": [
    "tb.value"
   ]
  },
  {
   "cell_type": "code",
   "execution_count": 38,
   "metadata": {},
   "outputs": [
    {
     "data": {
      "text/plain": [
       "true"
      ]
     },
     "execution_count": 38,
     "metadata": {},
     "output_type": "execute_result"
    }
   ],
   "source": [
    "tb.value = true\n",
    "//tb.value = false"
   ]
  },
  {
   "cell_type": "code",
   "execution_count": 39,
   "metadata": {},
   "outputs": [
    {
     "data": {
      "text/plain": [
       "ToggleButton tooltip 2"
      ]
     },
     "execution_count": 39,
     "metadata": {},
     "output_type": "execute_result"
    }
   ],
   "source": [
    "tb.tooltip = \"ToggleButton tooltip 2\""
   ]
  },
  {
   "cell_type": "code",
   "execution_count": 40,
   "metadata": {},
   "outputs": [
    {
     "data": {
      "application/vnd.jupyter.widget-view+json": {
       "model_id": "f311c7b7-f658-468a-ac5b-920f208890b4"
      }
     },
     "metadata": {},
     "output_type": "display_data"
    }
   ],
   "source": [
    "import com.twosigma.beakerx.widgets.floats.FloatSlider\n",
    "fs = new FloatSlider()\n",
    "fs.value = 10.1\n",
    "fs"
   ]
  },
  {
   "cell_type": "code",
   "execution_count": 41,
   "metadata": {},
   "outputs": [
    {
     "data": {
      "text/plain": [
       "0.0"
      ]
     },
     "execution_count": 41,
     "metadata": {},
     "output_type": "execute_result"
    }
   ],
   "source": [
    "fs.value"
   ]
  },
  {
   "cell_type": "code",
   "execution_count": 42,
   "metadata": {},
   "outputs": [
    {
     "data": {
      "text/plain": [
       "22.2"
      ]
     },
     "execution_count": 42,
     "metadata": {},
     "output_type": "execute_result"
    }
   ],
   "source": [
    "fs.value = 22.2"
   ]
  },
  {
   "cell_type": "code",
   "execution_count": 43,
   "metadata": {},
   "outputs": [
    {
     "data": {
      "application/vnd.jupyter.widget-view+json": {
       "model_id": "6a5392b2-8fd4-403a-967f-51b31ec0b4bc"
      }
     },
     "metadata": {},
     "output_type": "display_data"
    }
   ],
   "source": [
    "import com.twosigma.beakerx.widgets.floats.FloatProgress\n",
    "floatProgress = new FloatProgress()\n",
    "floatProgress.value = 10.2\n",
    "floatProgress"
   ]
  },
  {
   "cell_type": "code",
   "execution_count": 44,
   "metadata": {},
   "outputs": [
    {
     "data": {
      "text/plain": [
       "0.0"
      ]
     },
     "execution_count": 44,
     "metadata": {},
     "output_type": "execute_result"
    }
   ],
   "source": [
    "floatProgress.value"
   ]
  },
  {
   "cell_type": "code",
   "execution_count": 45,
   "metadata": {},
   "outputs": [
    {
     "data": {
      "text/plain": [
       "33.3"
      ]
     },
     "execution_count": 45,
     "metadata": {},
     "output_type": "execute_result"
    }
   ],
   "source": [
    "floatProgress.value = 33.3"
   ]
  },
  {
   "cell_type": "code",
   "execution_count": 46,
   "metadata": {},
   "outputs": [
    {
     "data": {
      "application/vnd.jupyter.widget-view+json": {
       "model_id": "d0e38266-45e0-4fa9-bb0e-1017b0210099"
      }
     },
     "metadata": {},
     "output_type": "display_data"
    }
   ],
   "source": [
    "import com.twosigma.beakerx.widgets.strings.Label\n",
    "label = new Label()\n",
    "label.value = \"Label 1\"\n",
    "label"
   ]
  },
  {
   "cell_type": "code",
   "execution_count": 47,
   "metadata": {},
   "outputs": [
    {
     "data": {
      "text/plain": [
       "Label 1"
      ]
     },
     "execution_count": 47,
     "metadata": {},
     "output_type": "execute_result"
    }
   ],
   "source": [
    "label.value"
   ]
  },
  {
   "cell_type": "code",
   "execution_count": 48,
   "metadata": {},
   "outputs": [
    {
     "data": {
      "text/plain": [
       "Label 2"
      ]
     },
     "execution_count": 48,
     "metadata": {},
     "output_type": "execute_result"
    }
   ],
   "source": [
    "label.value = \"Label 2\""
   ]
  },
  {
   "cell_type": "code",
   "execution_count": 49,
   "metadata": {},
   "outputs": [
    {
     "data": {
      "application/vnd.jupyter.widget-view+json": {
       "model_id": "56782137-2f18-4c08-ab10-94c46d4f8f4d"
      }
     },
     "metadata": {},
     "output_type": "display_data"
    }
   ],
   "source": [
    "import com.twosigma.beakerx.widgets.strings.HTML\n",
    "label = new HTML()\n",
    "label.value = \"Hello <b>World</b>\"\n",
    "label"
   ]
  },
  {
   "cell_type": "code",
   "execution_count": 50,
   "metadata": {},
   "outputs": [
    {
     "data": {
      "text/plain": [
       "<b>Hello World</b>"
      ]
     },
     "execution_count": 50,
     "metadata": {},
     "output_type": "execute_result"
    }
   ],
   "source": [
    "label.value = \"<b>Hello World</b>\""
   ]
  },
  {
   "cell_type": "code",
   "execution_count": 51,
   "metadata": {},
   "outputs": [
    {
     "data": {
      "application/vnd.jupyter.widget-view+json": {
       "model_id": "214619ae-1e3a-4385-9dd3-5bf64ef4c576"
      }
     },
     "metadata": {},
     "output_type": "display_data"
    }
   ],
   "source": [
    "import com.twosigma.beakerx.widgets.Image\n",
    "import java.nio.file.Files\n",
    "\n",
    "byte[] picture = Files.readAllBytes(new File(\"widgetArch.png\").toPath());\n",
    "\n",
    "image = new Image()\n",
    "image.format='png'\n",
    "image.value= picture\n",
    "image.width=300\n",
    "image.height=400\n",
    "image"
   ]
  },
  {
   "cell_type": "code",
   "execution_count": 52,
   "metadata": {},
   "outputs": [
    {
     "data": {
      "application/vnd.jupyter.widget-view+json": {
       "model_id": "1fe0a352-88e3-4118-bf3d-687d3055e3f5"
      }
     },
     "metadata": {},
     "output_type": "display_data"
    }
   ],
   "source": [
    "import com.twosigma.beakerx.widgets.DatePicker\n",
    "datePicker = new DatePicker()\n",
    "datePicker"
   ]
  },
  {
   "cell_type": "code",
   "execution_count": 53,
   "metadata": {},
   "outputs": [
    {
     "data": {
      "text/plain": [
       "null"
      ]
     },
     "execution_count": 53,
     "metadata": {},
     "output_type": "execute_result"
    }
   ],
   "source": [
    "datePicker.value"
   ]
  },
  {
   "cell_type": "code",
   "execution_count": 54,
   "metadata": {},
   "outputs": [
    {
     "data": {
      "application/vnd.jupyter.widget-view+json": {
       "model_id": "3e751192-4945-4acd-93c7-99d0ad04debd"
      }
     },
     "metadata": {},
     "output_type": "display_data"
    }
   ],
   "source": [
    "import com.twosigma.beakerx.widgets.integers.IntRangeSlider\n",
    "w = new IntRangeSlider()\n",
    "w.value = [10,40]\n",
    "w.orientation = \"horizontal\"\n",
    "//w.orientation = \"vertical\"\n",
    "w"
   ]
  },
  {
   "cell_type": "code",
   "execution_count": 55,
   "metadata": {},
   "outputs": [
    {
     "data": {
      "application/vnd.jupyter.widget-view+json": {
       "model_id": "9f7e24dd-1aca-416a-af22-bec2330a893f"
      }
     },
     "metadata": {},
     "output_type": "display_data"
    }
   ],
   "source": [
    "import com.twosigma.beakerx.widgets.integers.BoundedIntText\n",
    "w = new BoundedIntText()\n",
    "w.min = 0\n",
    "w.max = 10\n",
    "w"
   ]
  },
  {
   "cell_type": "code",
   "execution_count": 56,
   "metadata": {},
   "outputs": [
    {
     "data": {
      "application/vnd.jupyter.widget-view+json": {
       "model_id": "332c64cd-2f1a-4e7c-a5ed-a088929bf01a"
      }
     },
     "metadata": {},
     "output_type": "display_data"
    }
   ],
   "source": [
    "import com.twosigma.beakerx.widgets.integers.IntText\n",
    "w = new IntText()\n",
    "w"
   ]
  },
  {
   "cell_type": "code",
   "execution_count": 57,
   "metadata": {},
   "outputs": [
    {
     "data": {
      "application/vnd.jupyter.widget-view+json": {
       "model_id": "b4a8dc4f-a78d-443c-9d3d-a6b1f6a45f4d"
      }
     },
     "metadata": {},
     "output_type": "display_data"
    }
   ],
   "source": [
    "import com.twosigma.beakerx.widgets.integers.IntText\n",
    "w = new IntText()\n",
    "w"
   ]
  },
  {
   "cell_type": "code",
   "execution_count": 58,
   "metadata": {},
   "outputs": [
    {
     "data": {
      "application/vnd.jupyter.widget-view+json": {
       "model_id": "03439a7f-0d25-452b-8547-eb4d95ecadeb"
      }
     },
     "metadata": {},
     "output_type": "display_data"
    }
   ],
   "source": [
    "import com.twosigma.beakerx.widgets.integers.Play\n",
    "w = new Play()\n",
    "w"
   ]
  },
  {
   "cell_type": "code",
   "execution_count": 59,
   "metadata": {},
   "outputs": [
    {
     "data": {
      "application/vnd.jupyter.widget-view+json": {
       "model_id": "eaf0981e-5a91-41d7-8e19-95d9459112fd"
      }
     },
     "metadata": {},
     "output_type": "display_data"
    }
   ],
   "source": [
    "import com.twosigma.beakerx.widgets.floats.FloatRangeSlider\n",
    "w = new FloatRangeSlider()\n",
    "w.value = [10,40]\n",
    "w.orientation = \"horizontal\"\n",
    "//w.orientation = \"vertical\"\n",
    "w"
   ]
  },
  {
   "cell_type": "code",
   "execution_count": 60,
   "metadata": {},
   "outputs": [
    {
     "data": {
      "application/vnd.jupyter.widget-view+json": {
       "model_id": "4e92bd02-3e2f-4211-9a87-b9d37937ae6f"
      }
     },
     "metadata": {},
     "output_type": "display_data"
    }
   ],
   "source": [
    "import com.twosigma.beakerx.widgets.floats.BoundedFloatText\n",
    "w = new BoundedFloatText()\n",
    "w.min = 0 \n",
    "w.max = 10\n",
    "w"
   ]
  },
  {
   "cell_type": "code",
   "execution_count": 61,
   "metadata": {},
   "outputs": [
    {
     "data": {
      "application/vnd.jupyter.widget-view+json": {
       "model_id": "c872d04a-5bea-47eb-a195-01dcb9a7e27b"
      }
     },
     "metadata": {},
     "output_type": "display_data"
    }
   ],
   "source": [
    "import com.twosigma.beakerx.widgets.floats.FloatText\n",
    "w = new FloatText()\n",
    "w"
   ]
  },
  {
   "cell_type": "code",
   "execution_count": 62,
   "metadata": {},
   "outputs": [
    {
     "data": {
      "application/vnd.jupyter.widget-view+json": {
       "model_id": "15e38632-f284-42dc-8bea-58ca375d20af"
      }
     },
     "metadata": {},
     "output_type": "display_data"
    }
   ],
   "source": [
    "//Example with passing different type to value\n",
    "\n",
    "import com.twosigma.beakerx.widgets.integers.IntRangeSlider\n",
    "w = new IntRangeSlider()\n",
    "w.value = [\"10\",[49.6]]\n",
    "w.orientation = \"horizontal\"\n",
    "//w.orientation = \"vertical\"\n",
    "w"
   ]
  },
  {
   "cell_type": "code",
   "execution_count": 63,
   "metadata": {},
   "outputs": [
    {
     "data": {
      "application/vnd.jupyter.widget-view+json": {
       "model_id": "924b5af7-83d1-4a3a-82c8-98475df32a72"
      }
     },
     "metadata": {},
     "output_type": "display_data"
    }
   ],
   "source": [
    "//Example with passing different type to value\n",
    "\n",
    "import com.twosigma.beakerx.widgets.integers.IntRangeSlider\n",
    "import java.util.Collection\n",
    "\n",
    "Collection<Object> list = new ArrayList<>()\n",
    "list.add([\"19\"])\n",
    "list.add(\"53\")\n",
    "\n",
    "w = new IntRangeSlider()\n",
    "w.value = list\n",
    "w.orientation = \"horizontal\"\n",
    "//w.orientation = \"vertical\"\n",
    "w"
   ]
  },
  {
   "cell_type": "code",
   "execution_count": 64,
   "metadata": {},
   "outputs": [
    {
     "data": {
      "application/vnd.jupyter.widget-view+json": {
       "model_id": "68020d8f-84e6-4352-8d84-81adc5c81686"
      }
     },
     "metadata": {},
     "output_type": "display_data"
    }
   ],
   "source": [
    "import com.twosigma.beakerx.widgets.bools.Valid\n",
    "\n",
    "w = new Valid()\n",
    "w.description = 'Valid!'\n",
    "w.value = true\n",
    "w.disabled = false\n",
    "w"
   ]
  },
  {
   "cell_type": "code",
   "execution_count": 65,
   "metadata": {},
   "outputs": [
    {
     "data": {
      "application/vnd.jupyter.widget-view+json": {
       "model_id": "6c43ea66-38ed-49f0-a7ff-76632dbe4ef5"
      }
     },
     "metadata": {},
     "output_type": "display_data"
    }
   ],
   "source": [
    "import com.twosigma.beakerx.widgets.selectioncontainer.Accordion\n",
    "import com.twosigma.beakerx.widgets.bools.Valid\n",
    "import com.twosigma.beakerx.widgets.floats.BoundedFloatText\n",
    "import com.twosigma.beakerx.widgets.strings.Text\n",
    "\n",
    "t = new Text()\n",
    "t.value = \"Text example 1\"\n",
    "\n",
    "valid = new Valid()\n",
    "valid.description = 'Valid!'\n",
    "valid.value = true\n",
    "valid.disabled = false\n",
    "\n",
    "accordion = new Accordion([t , valid], ['t' , 'valid']);\n",
    "//accordion.set_title(0, 'Text')\n",
    "//accordion.set_title(1, 'Valid')\n",
    "accordion"
   ]
  },
  {
   "cell_type": "code",
   "execution_count": 66,
   "metadata": {},
   "outputs": [
    {
     "data": {
      "application/vnd.jupyter.widget-view+json": {
       "model_id": "e5f6fb1a-b813-4e40-90e4-f3711f6c5d6b"
      }
     },
     "metadata": {},
     "output_type": "display_data"
    }
   ],
   "source": [
    "import com.twosigma.beakerx.widgets.strings.Label\n",
    "widget = new Label()\n",
    "widget.value = \"\\$\\$\\\\frac{n!}{k!(n-k)!} = \\\\binom{n}{k}\\$\\$\"\n",
    "widget\n"
   ]
  },
  {
   "cell_type": "code",
   "execution_count": 67,
   "metadata": {},
   "outputs": [
    {
     "data": {
      "application/vnd.jupyter.widget-view+json": {
       "model_id": "16cce2a3-0335-40bd-8732-bb71cf86610d"
      }
     },
     "metadata": {},
     "output_type": "display_data"
    }
   ],
   "source": [
    "import com.twosigma.beakerx.widgets.selections.SelectionSlider\n",
    "widget = new SelectionSlider()\n",
    "widget.options=['scrambled', 'sunny side up', 'poached', 'over easy']\n",
    "widget.value='sunny side up'\n",
    "widget.description='I like my eggs ...'\n",
    "widget.orientation='horizontal'\n",
    "//widget.orientation='vertical'\n",
    "widget"
   ]
  },
  {
   "cell_type": "code",
   "execution_count": 68,
   "metadata": {},
   "outputs": [
    {
     "data": {
      "application/vnd.jupyter.widget-view+json": {
       "model_id": "eaefcb09-cf64-42a1-8369-a00ca613eedc"
      }
     },
     "metadata": {},
     "output_type": "display_data"
    }
   ],
   "source": [
    "import com.twosigma.beakerx.widgets.strings.HTMLMath\n",
    "widget = new HTMLMath()\n",
    "widget.value = \"\\$x^2\\$ and \\$\\$\\\\frac{x+1}{x-1}\\$\\$\"\n",
    "widget "
   ]
  },
  {
   "cell_type": "code",
   "execution_count": 69,
   "metadata": {},
   "outputs": [
    {
     "data": {
      "text/plain": [
       "$x^2$ and $$\\frac{x+1}{x-1}$$"
      ]
     },
     "execution_count": 69,
     "metadata": {},
     "output_type": "execute_result"
    }
   ],
   "source": [
    "widget.value"
   ]
  },
  {
   "cell_type": "code",
   "execution_count": 70,
   "metadata": {},
   "outputs": [
    {
     "data": {
      "application/vnd.jupyter.widget-view+json": {
       "model_id": "e59a645c-60f6-43ca-9661-4c46b02caac9"
      }
     },
     "metadata": {},
     "output_type": "display_data"
    }
   ],
   "source": [
    "import com.twosigma.beakerx.widgets.selections.ToggleButtons\n",
    "widget = new ToggleButtons()\n",
    "widget.description='Speed:'\n",
    "widget.options=['Slow', 'Regular', 'Fast']\n",
    "widget.button_style = 'success'\n",
    "widget.tooltips=['SL', 'RE', 'Fast']\n",
    "widget.icons=['check', 'check', 'check']\n",
    "widget"
   ]
  },
  {
   "cell_type": "code",
   "execution_count": 71,
   "metadata": {},
   "outputs": [
    {
     "data": {
      "application/vnd.jupyter.widget-view+json": {
       "model_id": "3b2553bd-0860-4663-87f9-7ac2eb554293"
      }
     },
     "metadata": {},
     "output_type": "display_data"
    }
   ],
   "source": [
    "import com.twosigma.beakerx.widgets.integers.Play\n",
    "import com.twosigma.beakerx.widgets.integers.IntSlider\n",
    "import com.twosigma.beakerx.widgets.box.HBox\n",
    "import com.twosigma.beakerx.widgets.link.Link\n",
    "import com.twosigma.beakerx.widgets.link.DirectionalLink\n",
    "import static com.twosigma.beakerx.widgets.link.Link.jslink\n",
    "import static com.twosigma.beakerx.widgets.link.DirectionalLink.jsdlink\n",
    "\n",
    "slider = new IntSlider()\n",
    "play= new Play()\n",
    "play.value=50\n",
    "play.min=0\n",
    "play.max=100\n",
    "//link = new Link(play, \"value\", slider, \"value\")\n",
    "link = jslink(play, \"value\", slider, \"value\")\n",
    "//link = new DirectionalLink(play, \"value\", slider, \"value\")\n",
    "//link = jsdlink(play, \"value\", slider, \"value\")\n",
    "box = new HBox([play,slider])\n"
   ]
  },
  {
   "cell_type": "code",
   "execution_count": null,
   "metadata": {
    "collapsed": true
   },
   "outputs": [],
   "source": []
  }
 ],
 "metadata": {
  "anaconda-cloud": {},
  "beakerx_kernel_parameters": {},
  "kernelspec": {
   "display_name": "Groovy",
   "language": "groovy",
   "name": "groovy"
  },
  "language_info": {
   "codemirror_mode": "groovy",
   "file_extension": ".groovy",
   "mimetype": "",
   "name": "Groovy",
   "nbconverter_exporter": "",
   "version": "2.4.3"
  },
  "widgets": {
   "application/vnd.jupyter.widget-state+json": {
    "state": {
     "03439a7f-0d25-452b-8547-eb4d95ecadeb": {
      "model_module": "jupyter-js-widgets",
      "model_module_version": "^2.1.4",
      "model_name": "PlayModel",
      "state": {
       "background_color": null,
       "color": null,
       "font_family": "",
       "font_size": "",
       "font_style": "",
       "font_weight": "",
       "layout": "IPY_MODEL_70bd3d3f-dad4-4334-acc2-45cfbb37b2d2",
       "msg_throttle": 3,
       "visible": true
      }
     },
     "0ca5dfe7-3fd1-4341-a78e-6e7a194d0e31": {
      "model_module": "jupyter-js-widgets",
      "model_module_version": "^2.1.4",
      "model_name": "ProgressModel",
      "state": {
       "background_color": null,
       "color": null,
       "font_family": "",
       "font_size": "",
       "font_style": "",
       "font_weight": "",
       "layout": "IPY_MODEL_eea46921-93c8-400f-ad8f-25ae07078968",
       "max": 300,
       "min": 50,
       "msg_throttle": 3,
       "step": 20,
       "value": 110,
       "visible": true
      }
     },
     "13003807-a8b6-4d59-98a6-de3d2c86d46a": {
      "model_module": "jupyter-js-widgets",
      "model_module_version": "^2.1.4",
      "model_name": "LayoutModel",
      "state": {
       "align_content": "",
       "align_self": "",
       "border": "",
       "bottom": "",
       "flex": "",
       "height": "",
       "justify_content": "",
       "left": "",
       "margin": "",
       "max_height": "",
       "max_width": "",
       "min_height": "",
       "min_width": "",
       "msg_throttle": 3,
       "overflow": "",
       "overflow_x": "",
       "overflow_y": "",
       "padding": "",
       "right": "",
       "top": "",
       "visibility": ""
      }
     },
     "15e38632-f284-42dc-8bea-58ca375d20af": {
      "model_module": "jupyter-js-widgets",
      "model_module_version": "^2.1.4",
      "model_name": "IntSliderModel",
      "state": {
       "_range": true,
       "background_color": null,
       "color": null,
       "font_family": "",
       "font_size": "",
       "font_style": "",
       "font_weight": "",
       "layout": "IPY_MODEL_35cb058e-993d-4e85-b8af-ef83ec3cc6a8",
       "msg_throttle": 3,
       "slider_color": null,
       "value": [
        "10",
        [
         49.6
        ]
       ],
       "visible": true
      }
     },
     "16cce2a3-0335-40bd-8732-bb71cf86610d": {
      "model_module": "jupyter-js-widgets",
      "model_module_version": "^2.1.4",
      "model_name": "SelectionSliderModel",
      "state": {
       "_options_labels": [
        "scrambled",
        "sunny side up",
        "poached",
        "over easy"
       ],
       "background_color": null,
       "color": null,
       "description": "I like my eggs ...",
       "font_family": "",
       "font_size": "",
       "font_style": "",
       "font_weight": "",
       "layout": "IPY_MODEL_6f50ce51-76dd-48c1-839d-e805840e58e3",
       "msg_throttle": 3,
       "value": "sunny side up",
       "visible": true
      }
     },
     "1ab96764-b3a8-4386-8bc5-e78f32410e7e": {
      "model_module": "jupyter-js-widgets",
      "model_module_version": "^2.1.4",
      "model_name": "LayoutModel",
      "state": {
       "align_content": "",
       "align_self": "",
       "border": "",
       "bottom": "",
       "flex": "",
       "height": "",
       "justify_content": "",
       "left": "",
       "margin": "",
       "max_height": "",
       "max_width": "",
       "min_height": "",
       "min_width": "",
       "msg_throttle": 3,
       "overflow": "",
       "overflow_x": "",
       "overflow_y": "",
       "padding": "",
       "right": "",
       "top": "",
       "visibility": ""
      }
     },
     "1fe0a352-88e3-4118-bf3d-687d3055e3f5": {
      "model_module": "beakerx",
      "model_module_version": "^2.1.4",
      "model_name": "DatePickerModel",
      "state": {
       "background_color": null,
       "color": null,
       "font_family": "",
       "font_size": "",
       "font_style": "",
       "font_weight": "",
       "layout": "IPY_MODEL_13003807-a8b6-4d59-98a6-de3d2c86d46a",
       "msg_throttle": 3,
       "value": null,
       "visible": true
      }
     },
     "214619ae-1e3a-4385-9dd3-5bf64ef4c576": {
      "model_module": "jupyter-js-widgets",
      "model_module_version": "^2.1.4",
      "model_name": "ImageModel",
      "state": {
       "_b64value": "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",
       "background_color": null,
       "color": null,
       "description": "",
       "disabled": false,
       "font_family": "",
       "font_size": "",
       "font_style": "",
       "font_weight": "",
       "height": "400",
       "layout": "IPY_MODEL_f338ceed-d302-47eb-8457-19fc248fd8bc",
       "msg_throttle": 3,
       "value": null,
       "visible": true,
       "width": "300"
      }
     },
     "332c64cd-2f1a-4e7c-a5ed-a088929bf01a": {
      "model_module": "jupyter-js-widgets",
      "model_module_version": "^2.1.4",
      "model_name": "IntTextModel",
      "state": {
       "background_color": null,
       "color": null,
       "font_family": "",
       "font_size": "",
       "font_style": "",
       "font_weight": "",
       "layout": "IPY_MODEL_33e63f5f-213c-447b-a1e1-00fb12cf6ab9",
       "msg_throttle": 3,
       "visible": true
      }
     },
     "33e63f5f-213c-447b-a1e1-00fb12cf6ab9": {
      "model_module": "jupyter-js-widgets",
      "model_module_version": "^2.1.4",
      "model_name": "LayoutModel",
      "state": {
       "align_content": "",
       "align_self": "",
       "border": "",
       "bottom": "",
       "flex": "",
       "height": "",
       "justify_content": "",
       "left": "",
       "margin": "",
       "max_height": "",
       "max_width": "",
       "min_height": "",
       "min_width": "",
       "msg_throttle": 3,
       "overflow": "",
       "overflow_x": "",
       "overflow_y": "",
       "padding": "",
       "right": "",
       "top": "",
       "visibility": ""
      }
     },
     "35cb058e-993d-4e85-b8af-ef83ec3cc6a8": {
      "model_module": "jupyter-js-widgets",
      "model_module_version": "^2.1.4",
      "model_name": "LayoutModel",
      "state": {
       "align_content": "",
       "align_self": "",
       "border": "",
       "bottom": "",
       "flex": "",
       "height": "",
       "justify_content": "",
       "left": "",
       "margin": "",
       "max_height": "",
       "max_width": "",
       "min_height": "",
       "min_width": "",
       "msg_throttle": 3,
       "overflow": "",
       "overflow_x": "",
       "overflow_y": "",
       "padding": "",
       "right": "",
       "top": "",
       "visibility": ""
      }
     },
     "389bc6c9-5137-42ca-b4ea-da583b4b89d4": {
      "model_module": "jupyter-js-widgets",
      "model_module_version": "^2.1.4",
      "model_name": "LayoutModel",
      "state": {
       "align_content": "",
       "align_self": "",
       "border": "",
       "bottom": "",
       "flex": "",
       "height": "",
       "justify_content": "",
       "left": "",
       "margin": "",
       "max_height": "",
       "max_width": "",
       "min_height": "",
       "min_width": "",
       "msg_throttle": 3,
       "overflow": "",
       "overflow_x": "",
       "overflow_y": "",
       "padding": "",
       "right": "",
       "top": "",
       "visibility": ""
      }
     },
     "3b2553bd-0860-4663-87f9-7ac2eb554293": {
      "model_module": "jupyter-js-widgets",
      "model_module_version": "^2.1.4",
      "model_name": "HBoxModel",
      "state": {
       "background_color": null,
       "children": [
        "IPY_MODEL_effb96f4-83d1-4085-aaf5-782cda9d4d4a",
        "IPY_MODEL_8a81f234-9869-469b-9a01-c6612fc19699"
       ],
       "color": null,
       "description": "",
       "disabled": false,
       "font_family": "",
       "font_size": "",
       "font_style": "",
       "font_weight": "",
       "layout": "IPY_MODEL_64033b11-8eaa-4908-9da4-3f49a4d01feb",
       "msg_throttle": 3,
       "visible": true
      }
     },
     "3e751192-4945-4acd-93c7-99d0ad04debd": {
      "model_module": "jupyter-js-widgets",
      "model_module_version": "^2.1.4",
      "model_name": "IntSliderModel",
      "state": {
       "_range": true,
       "background_color": null,
       "color": null,
       "font_family": "",
       "font_size": "",
       "font_style": "",
       "font_weight": "",
       "layout": "IPY_MODEL_419f8d63-539a-404e-964c-2bd090c207f9",
       "msg_throttle": 3,
       "slider_color": null,
       "value": [
        10,
        40
       ],
       "visible": true
      }
     },
     "3ede64d3-ec8b-4829-91a4-faf9d4e949bf": {
      "model_module": "jupyter-js-widgets",
      "model_module_version": "^2.1.4",
      "model_name": "ToggleButtonModel",
      "state": {
       "background_color": null,
       "button_style": "success",
       "color": null,
       "description": "Click me",
       "font_family": "",
       "font_size": "",
       "font_style": "",
       "font_weight": "",
       "icon": "check",
       "layout": "IPY_MODEL_1ab96764-b3a8-4386-8bc5-e78f32410e7e",
       "msg_throttle": 3,
       "tooltip": "ToggleButton tooltip 2",
       "value": true,
       "visible": true
      }
     },
     "411be3e0-6f75-4127-b261-1d10016d444e": {
      "model_module": "jupyter-js-widgets",
      "model_module_version": "^2.1.4",
      "model_name": "ColorPickerModel",
      "state": {
       "background_color": null,
       "color": null,
       "disabled": false,
       "font_family": "",
       "font_size": "",
       "font_style": "",
       "font_weight": "",
       "layout": "IPY_MODEL_e7653440-6a15-4a9d-85ba-929d758822e6",
       "msg_throttle": 3,
       "value": "red",
       "visible": true
      }
     },
     "419f8d63-539a-404e-964c-2bd090c207f9": {
      "model_module": "jupyter-js-widgets",
      "model_module_version": "^2.1.4",
      "model_name": "LayoutModel",
      "state": {
       "align_content": "",
       "align_self": "",
       "border": "",
       "bottom": "",
       "flex": "",
       "height": "",
       "justify_content": "",
       "left": "",
       "margin": "",
       "max_height": "",
       "max_width": "",
       "min_height": "",
       "min_width": "",
       "msg_throttle": 3,
       "overflow": "",
       "overflow_x": "",
       "overflow_y": "",
       "padding": "",
       "right": "",
       "top": "",
       "visibility": ""
      }
     },
     "4869f390-3ee5-46b8-ad1d-8551ba4ad5ef": {
      "model_module": "jupyter-js-widgets",
      "model_module_version": "^2.1.4",
      "model_name": "LayoutModel",
      "state": {
       "align_content": "",
       "align_self": "",
       "border": "",
       "bottom": "",
       "flex": "",
       "height": "",
       "justify_content": "",
       "left": "",
       "margin": "",
       "max_height": "",
       "max_width": "",
       "min_height": "",
       "min_width": "",
       "msg_throttle": 3,
       "overflow": "",
       "overflow_x": "",
       "overflow_y": "",
       "padding": "",
       "right": "",
       "top": "",
       "visibility": ""
      }
     },
     "4924d4d3-d8f8-416c-913b-a210db075b75": {
      "model_module": "jupyter-js-widgets",
      "model_module_version": "^2.1.4",
      "model_name": "LayoutModel",
      "state": {
       "align_content": "",
       "align_self": "",
       "border": "",
       "bottom": "",
       "flex": "",
       "height": "",
       "justify_content": "",
       "left": "",
       "margin": "",
       "max_height": "",
       "max_width": "",
       "min_height": "",
       "min_width": "",
       "msg_throttle": 3,
       "overflow": "",
       "overflow_x": "",
       "overflow_y": "",
       "padding": "",
       "right": "",
       "top": "",
       "visibility": ""
      }
     },
     "4a3900ae-30db-488f-956b-0f0812b883b9": {
      "model_module": "jupyter-js-widgets",
      "model_module_version": "^2.1.4",
      "model_name": "LayoutModel",
      "state": {
       "align_content": "",
       "align_self": "",
       "border": "",
       "bottom": "",
       "flex": "",
       "height": "",
       "justify_content": "",
       "left": "",
       "margin": "",
       "max_height": "",
       "max_width": "",
       "min_height": "",
       "min_width": "",
       "msg_throttle": 3,
       "overflow": "",
       "overflow_x": "",
       "overflow_y": "",
       "padding": "",
       "right": "",
       "top": "",
       "visibility": ""
      }
     },
     "4e92bd02-3e2f-4211-9a87-b9d37937ae6f": {
      "model_module": "jupyter-js-widgets",
      "model_module_version": "^2.1.4",
      "model_name": "FloatTextModel",
      "state": {
       "background_color": null,
       "color": null,
       "font_family": "",
       "font_size": "",
       "font_style": "",
       "font_weight": "",
       "layout": "IPY_MODEL_af8202e8-88c1-4d93-bf30-9f968df07a55",
       "max": 10,
       "min": 0,
       "msg_throttle": 3,
       "step": 0.1,
       "visible": true
      }
     },
     "52b03743-311b-4277-98c7-6c730c45c7e8": {
      "model_module": "jupyter-js-widgets",
      "model_module_version": "^2.1.4",
      "model_name": "LayoutModel",
      "state": {
       "align_content": "",
       "align_self": "",
       "border": "",
       "bottom": "",
       "flex": "",
       "height": "",
       "justify_content": "",
       "left": "",
       "margin": "",
       "max_height": "",
       "max_width": "",
       "min_height": "",
       "min_width": "",
       "msg_throttle": 3,
       "overflow": "",
       "overflow_x": "",
       "overflow_y": "",
       "padding": "",
       "right": "",
       "top": "",
       "visibility": ""
      }
     },
     "537527d9-86b3-4707-b1e4-8f4829d31af3": {
      "model_module": "beakerx",
      "model_module_version": "^2.1.4",
      "model_name": "TextModel",
      "state": {
       "background_color": null,
       "color": null,
       "font_family": "",
       "font_size": "",
       "font_style": "",
       "font_weight": "",
       "layout": "IPY_MODEL_e215bc97-d122-44e6-aa65-26fb92ea6b50",
       "msg_throttle": 3,
       "placeholder": "",
       "value": "Text example 1",
       "visible": true
      }
     },
     "56782137-2f18-4c08-ab10-94c46d4f8f4d": {
      "model_module": "jupyter-js-widgets",
      "model_module_version": "^2.1.4",
      "model_name": "HTMLModel",
      "state": {
       "background_color": null,
       "color": null,
       "font_family": "",
       "font_size": "",
       "font_style": "",
       "font_weight": "",
       "layout": "IPY_MODEL_389bc6c9-5137-42ca-b4ea-da583b4b89d4",
       "msg_throttle": 3,
       "placeholder": "",
       "value": "<b>Hello World</b>",
       "visible": true
      }
     },
     "5cc7b45c-e00f-4444-b19e-88692188473e": {
      "model_module": "jupyter-js-widgets",
      "model_module_version": "^2.1.4",
      "model_name": "LayoutModel",
      "state": {
       "align_content": "",
       "align_self": "",
       "border": "",
       "bottom": "",
       "flex": "",
       "height": "",
       "justify_content": "",
       "left": "",
       "margin": "",
       "max_height": "",
       "max_width": "",
       "min_height": "",
       "min_width": "",
       "msg_throttle": 3,
       "overflow": "",
       "overflow_x": "",
       "overflow_y": "",
       "padding": "",
       "right": "",
       "top": "",
       "visibility": ""
      }
     },
     "61878c4d-058f-49a0-b93e-83773743854c": {
      "model_module": "jupyter-js-widgets",
      "model_module_version": "^2.1.4",
      "model_name": "LayoutModel",
      "state": {
       "align_content": "",
       "align_self": "",
       "border": "",
       "bottom": "",
       "flex": "",
       "height": "",
       "justify_content": "",
       "left": "",
       "margin": "",
       "max_height": "",
       "max_width": "",
       "min_height": "",
       "min_width": "",
       "msg_throttle": 3,
       "overflow": "",
       "overflow_x": "",
       "overflow_y": "",
       "padding": "",
       "right": "",
       "top": "",
       "visibility": ""
      }
     },
     "64033b11-8eaa-4908-9da4-3f49a4d01feb": {
      "model_module": "jupyter-js-widgets",
      "model_module_version": "^2.1.4",
      "model_name": "LayoutModel",
      "state": {
       "align_content": "",
       "align_self": "",
       "border": "",
       "bottom": "",
       "flex": "",
       "height": "",
       "justify_content": "",
       "left": "",
       "margin": "",
       "max_height": "",
       "max_width": "",
       "min_height": "",
       "min_width": "",
       "msg_throttle": 3,
       "overflow": "",
       "overflow_x": "",
       "overflow_y": "",
       "padding": "",
       "right": "",
       "top": "",
       "visibility": ""
      }
     },
     "68020d8f-84e6-4352-8d84-81adc5c81686": {
      "model_module": "jupyter-js-widgets",
      "model_module_version": "^2.1.4",
      "model_name": "ValidModel",
      "state": {
       "background_color": null,
       "color": null,
       "description": "Valid!",
       "font_family": "",
       "font_size": "",
       "font_style": "",
       "font_weight": "",
       "layout": "IPY_MODEL_cc23fdc5-80da-43d3-9284-e3ecdf289e62",
       "msg_throttle": 3,
       "readout": true,
       "value": true,
       "visible": true
      }
     },
     "6a5392b2-8fd4-403a-967f-51b31ec0b4bc": {
      "model_module": "jupyter-js-widgets",
      "model_module_version": "^2.1.4",
      "model_name": "ProgressModel",
      "state": {
       "background_color": null,
       "color": null,
       "font_family": "",
       "font_size": "",
       "font_style": "",
       "font_weight": "",
       "layout": "IPY_MODEL_ec3ef273-b6bc-4e09-965a-ae8a19a7b031",
       "msg_throttle": 3,
       "step": 0.1,
       "value": 33.3,
       "visible": true
      }
     },
     "6c43ea66-38ed-49f0-a7ff-76632dbe4ef5": {
      "model_module": "jupyter-js-widgets",
      "model_module_version": "^2.1.4",
      "model_name": "AccordionModel",
      "state": {
       "_titles": {
        "0": "t",
        "1": "valid"
       },
       "background_color": null,
       "children": [
        "IPY_MODEL_537527d9-86b3-4707-b1e4-8f4829d31af3",
        "IPY_MODEL_ff68e5d0-034e-4dec-8aca-82cdff91e6b9"
       ],
       "color": null,
       "description": "",
       "disabled": false,
       "font_family": "",
       "font_size": "",
       "font_style": "",
       "font_weight": "",
       "layout": "IPY_MODEL_7fec5627-2376-4777-b5fc-fa27e88cbba1",
       "msg_throttle": 3,
       "visible": true
      }
     },
     "6d241eb8-f971-43e9-b6de-ac140cf926dc": {
      "model_module": "jupyter-js-widgets",
      "model_module_version": "^2.1.4",
      "model_name": "LayoutModel",
      "state": {
       "align_content": "",
       "align_self": "",
       "border": "",
       "bottom": "",
       "flex": "",
       "height": "",
       "justify_content": "",
       "left": "",
       "margin": "",
       "max_height": "",
       "max_width": "",
       "min_height": "",
       "min_width": "",
       "msg_throttle": 3,
       "overflow": "",
       "overflow_x": "",
       "overflow_y": "",
       "padding": "",
       "right": "",
       "top": "",
       "visibility": ""
      }
     },
     "6f50ce51-76dd-48c1-839d-e805840e58e3": {
      "model_module": "jupyter-js-widgets",
      "model_module_version": "^2.1.4",
      "model_name": "LayoutModel",
      "state": {
       "align_content": "",
       "align_self": "",
       "border": "",
       "bottom": "",
       "flex": "",
       "height": "",
       "justify_content": "",
       "left": "",
       "margin": "",
       "max_height": "",
       "max_width": "",
       "min_height": "",
       "min_width": "",
       "msg_throttle": 3,
       "overflow": "",
       "overflow_x": "",
       "overflow_y": "",
       "padding": "",
       "right": "",
       "top": "",
       "visibility": ""
      }
     },
     "7013844e-2b84-4464-a3f3-c87b8bc67217": {
      "model_module": "jupyter-js-widgets",
      "model_module_version": "^2.1.4",
      "model_name": "IntSliderModel",
      "state": {
       "background_color": null,
       "color": null,
       "description": "desc1",
       "font_family": "",
       "font_size": "",
       "font_style": "",
       "font_weight": "",
       "layout": "IPY_MODEL_4a3900ae-30db-488f-956b-0f0812b883b9",
       "max": 200,
       "min": 50,
       "msg_throttle": 3,
       "slider_color": "#087636",
       "step": 20,
       "value": 76,
       "visible": true
      }
     },
     "70bd3d3f-dad4-4334-acc2-45cfbb37b2d2": {
      "model_module": "jupyter-js-widgets",
      "model_module_version": "^2.1.4",
      "model_name": "LayoutModel",
      "state": {
       "align_content": "",
       "align_self": "",
       "border": "",
       "bottom": "",
       "flex": "",
       "height": "",
       "justify_content": "",
       "left": "",
       "margin": "",
       "max_height": "",
       "max_width": "",
       "min_height": "",
       "min_width": "",
       "msg_throttle": 3,
       "overflow": "",
       "overflow_x": "",
       "overflow_y": "",
       "padding": "",
       "right": "",
       "top": "",
       "visibility": ""
      }
     },
     "77d4f977-a557-4874-8f7c-aa1ec33795f6": {
      "model_module": "jupyter-js-widgets",
      "model_module_version": "^2.1.4",
      "model_name": "SelectModel",
      "state": {
       "_options_labels": [
        "Linux",
        "Windows",
        "OSX"
       ],
       "background_color": null,
       "color": null,
       "font_family": "",
       "font_size": "",
       "font_style": "",
       "font_weight": "",
       "layout": "IPY_MODEL_f0a63683-d937-4220-bd0e-48d26d6bf6fb",
       "msg_throttle": 3,
       "value": "Linux",
       "visible": true
      }
     },
     "7bd87bab-8aab-4897-bb38-5a66e36fde15": {
      "model_module": "jupyter-js-widgets",
      "model_module_version": "^2.1.4",
      "model_name": "LayoutModel",
      "state": {
       "align_content": "",
       "align_self": "",
       "border": "",
       "bottom": "",
       "flex": "",
       "height": "",
       "justify_content": "",
       "left": "",
       "margin": "",
       "max_height": "",
       "max_width": "",
       "min_height": "",
       "min_width": "",
       "msg_throttle": 3,
       "overflow": "",
       "overflow_x": "",
       "overflow_y": "",
       "padding": "",
       "right": "",
       "top": "",
       "visibility": ""
      }
     },
     "7fec5627-2376-4777-b5fc-fa27e88cbba1": {
      "model_module": "jupyter-js-widgets",
      "model_module_version": "^2.1.4",
      "model_name": "LayoutModel",
      "state": {
       "align_content": "",
       "align_self": "",
       "border": "",
       "bottom": "",
       "flex": "",
       "height": "",
       "justify_content": "",
       "left": "",
       "margin": "",
       "max_height": "",
       "max_width": "",
       "min_height": "",
       "min_width": "",
       "msg_throttle": 3,
       "overflow": "",
       "overflow_x": "",
       "overflow_y": "",
       "padding": "",
       "right": "",
       "top": "",
       "visibility": ""
      }
     },
     "8900dab6-dafb-4388-8d7f-fc786f6205cd": {
      "model_module": "jupyter-js-widgets",
      "model_module_version": "^2.1.4",
      "model_name": "RadioButtonsModel",
      "state": {
       "_options_labels": [
        "1",
        "2",
        "3",
        "4",
        "5"
       ],
       "background_color": null,
       "color": null,
       "font_family": "",
       "font_size": "",
       "font_style": "",
       "font_weight": "",
       "layout": "IPY_MODEL_af7dd4af-f77c-4563-bb3b-d78704577719",
       "msg_throttle": 3,
       "value": "1",
       "visible": true
      }
     },
     "8a81f234-9869-469b-9a01-c6612fc19699": {
      "model_module": "jupyter-js-widgets",
      "model_module_version": "^2.1.4",
      "model_name": "IntSliderModel",
      "state": {
       "background_color": null,
       "color": null,
       "font_family": "",
       "font_size": "",
       "font_style": "",
       "font_weight": "",
       "layout": "IPY_MODEL_7bd87bab-8aab-4897-bb38-5a66e36fde15",
       "msg_throttle": 3,
       "slider_color": null,
       "value": 50,
       "visible": true
      }
     },
     "8e0727d0-15e3-4b81-807e-99f2c00793b2": {
      "model_module": "jupyter-js-widgets",
      "model_module_version": "^2.1.4",
      "model_name": "LayoutModel",
      "state": {
       "align_content": "",
       "align_self": "",
       "border": "",
       "bottom": "",
       "flex": "",
       "height": "",
       "justify_content": "",
       "left": "",
       "margin": "",
       "max_height": "",
       "max_width": "",
       "min_height": "",
       "min_width": "",
       "msg_throttle": 3,
       "overflow": "",
       "overflow_x": "",
       "overflow_y": "",
       "padding": "",
       "right": "",
       "top": "",
       "visibility": ""
      }
     },
     "904d547e-f180-4161-bcf1-7ad8bce14953": {
      "model_module": "jupyter-js-widgets",
      "model_module_version": "^2.1.4",
      "model_name": "LayoutModel",
      "state": {
       "align_content": "",
       "align_self": "",
       "border": "",
       "bottom": "",
       "flex": "",
       "height": "",
       "justify_content": "",
       "left": "",
       "margin": "",
       "max_height": "",
       "max_width": "",
       "min_height": "",
       "min_width": "",
       "msg_throttle": 3,
       "overflow": "",
       "overflow_x": "",
       "overflow_y": "",
       "padding": "",
       "right": "",
       "top": "",
       "visibility": ""
      }
     },
     "924b5af7-83d1-4a3a-82c8-98475df32a72": {
      "model_module": "jupyter-js-widgets",
      "model_module_version": "^2.1.4",
      "model_name": "IntSliderModel",
      "state": {
       "_range": true,
       "background_color": null,
       "color": null,
       "font_family": "",
       "font_size": "",
       "font_style": "",
       "font_weight": "",
       "layout": "IPY_MODEL_4869f390-3ee5-46b8-ad1d-8551ba4ad5ef",
       "msg_throttle": 3,
       "slider_color": null,
       "value": [
        [
         "19"
        ],
        "53"
       ],
       "visible": true
      }
     },
     "9a672d39-356d-43a6-a944-4075ea4e3871": {
      "model_module": "jupyter-js-widgets",
      "model_module_version": "^2.1.4",
      "model_name": "TextareaModel",
      "state": {
       "background_color": null,
       "color": null,
       "font_family": "",
       "font_size": "",
       "font_style": "",
       "font_weight": "",
       "layout": "IPY_MODEL_4924d4d3-d8f8-416c-913b-a210db075b75",
       "msg_throttle": 3,
       "placeholder": "",
       "value": "Textarea example 2",
       "visible": true
      }
     },
     "9f7e24dd-1aca-416a-af22-bec2330a893f": {
      "model_module": "jupyter-js-widgets",
      "model_module_version": "^2.1.4",
      "model_name": "IntTextModel",
      "state": {
       "background_color": null,
       "color": null,
       "font_family": "",
       "font_size": "",
       "font_style": "",
       "font_weight": "",
       "layout": "IPY_MODEL_8e0727d0-15e3-4b81-807e-99f2c00793b2",
       "max": 10,
       "min": 0,
       "msg_throttle": 3,
       "step": 1,
       "visible": true
      }
     },
     "9f7ff1df-f003-4000-8046-3bd676dba523": {
      "model_module": "jupyter-js-widgets",
      "model_module_version": "^2.1.4",
      "model_name": "LayoutModel",
      "state": {
       "align_content": "",
       "align_self": "",
       "border": "",
       "bottom": "",
       "flex": "",
       "height": "",
       "justify_content": "",
       "left": "",
       "margin": "",
       "max_height": "",
       "max_width": "",
       "min_height": "",
       "min_width": "",
       "msg_throttle": 3,
       "overflow": "",
       "overflow_x": "",
       "overflow_y": "",
       "padding": "",
       "right": "",
       "top": "",
       "visibility": ""
      }
     },
     "ae4722ac-5498-4cee-9840-f2fdf8f78bb9": {
      "model_module": "jupyter-js-widgets",
      "model_module_version": "^2.1.4",
      "model_name": "CheckboxModel",
      "state": {
       "background_color": null,
       "color": null,
       "disabled": false,
       "font_family": "",
       "font_size": "",
       "font_style": "",
       "font_weight": "",
       "layout": "IPY_MODEL_5cc7b45c-e00f-4444-b19e-88692188473e",
       "msg_throttle": 3,
       "value": true,
       "visible": true
      }
     },
     "af7dd4af-f77c-4563-bb3b-d78704577719": {
      "model_module": "jupyter-js-widgets",
      "model_module_version": "^2.1.4",
      "model_name": "LayoutModel",
      "state": {
       "align_content": "",
       "align_self": "",
       "border": "",
       "bottom": "",
       "flex": "",
       "height": "",
       "justify_content": "",
       "left": "",
       "margin": "",
       "max_height": "",
       "max_width": "",
       "min_height": "",
       "min_width": "",
       "msg_throttle": 3,
       "overflow": "",
       "overflow_x": "",
       "overflow_y": "",
       "padding": "",
       "right": "",
       "top": "",
       "visibility": ""
      }
     },
     "af8202e8-88c1-4d93-bf30-9f968df07a55": {
      "model_module": "jupyter-js-widgets",
      "model_module_version": "^2.1.4",
      "model_name": "LayoutModel",
      "state": {
       "align_content": "",
       "align_self": "",
       "border": "",
       "bottom": "",
       "flex": "",
       "height": "",
       "justify_content": "",
       "left": "",
       "margin": "",
       "max_height": "",
       "max_width": "",
       "min_height": "",
       "min_width": "",
       "msg_throttle": 3,
       "overflow": "",
       "overflow_x": "",
       "overflow_y": "",
       "padding": "",
       "right": "",
       "top": "",
       "visibility": ""
      }
     },
     "b4a8dc4f-a78d-443c-9d3d-a6b1f6a45f4d": {
      "model_module": "jupyter-js-widgets",
      "model_module_version": "^2.1.4",
      "model_name": "IntTextModel",
      "state": {
       "background_color": null,
       "color": null,
       "font_family": "",
       "font_size": "",
       "font_style": "",
       "font_weight": "",
       "layout": "IPY_MODEL_52b03743-311b-4277-98c7-6c730c45c7e8",
       "msg_throttle": 3,
       "visible": true
      }
     },
     "b5181cce-78a3-4824-8abe-87cd12b9c105": {
      "model_module": "jupyter-js-widgets",
      "model_module_version": "^2.1.4",
      "model_name": "LayoutModel",
      "state": {
       "align_content": "",
       "align_self": "",
       "border": "",
       "bottom": "",
       "flex": "",
       "height": "",
       "justify_content": "",
       "left": "",
       "margin": "",
       "max_height": "",
       "max_width": "",
       "min_height": "",
       "min_width": "",
       "msg_throttle": 3,
       "overflow": "",
       "overflow_x": "",
       "overflow_y": "",
       "padding": "",
       "right": "",
       "top": "",
       "visibility": ""
      }
     },
     "c872d04a-5bea-47eb-a195-01dcb9a7e27b": {
      "model_module": "jupyter-js-widgets",
      "model_module_version": "^2.1.4",
      "model_name": "FloatTextModel",
      "state": {
       "background_color": null,
       "color": null,
       "font_family": "",
       "font_size": "",
       "font_style": "",
       "font_weight": "",
       "layout": "IPY_MODEL_f61fa572-c7ac-4c2d-98da-16fd6c56c7ed",
       "msg_throttle": 3,
       "visible": true
      }
     },
     "cc23fdc5-80da-43d3-9284-e3ecdf289e62": {
      "model_module": "jupyter-js-widgets",
      "model_module_version": "^2.1.4",
      "model_name": "LayoutModel",
      "state": {
       "align_content": "",
       "align_self": "",
       "border": "",
       "bottom": "",
       "flex": "",
       "height": "",
       "justify_content": "",
       "left": "",
       "margin": "",
       "max_height": "",
       "max_width": "",
       "min_height": "",
       "min_width": "",
       "msg_throttle": 3,
       "overflow": "",
       "overflow_x": "",
       "overflow_y": "",
       "padding": "",
       "right": "",
       "top": "",
       "visibility": ""
      }
     },
     "d0e38266-45e0-4fa9-bb0e-1017b0210099": {
      "model_module": "jupyter-js-widgets",
      "model_module_version": "^2.1.4",
      "model_name": "LabelModel",
      "state": {
       "background_color": null,
       "color": null,
       "font_family": "",
       "font_size": "",
       "font_style": "",
       "font_weight": "",
       "layout": "IPY_MODEL_f8c1a6da-3bb3-42f1-b373-89fc39abc5e2",
       "msg_throttle": 3,
       "placeholder": "",
       "value": "Label 2",
       "visible": true
      }
     },
     "d54a5e42-3795-449e-b09b-eda2264d53d7": {
      "model_module": "jupyter-js-widgets",
      "model_module_version": "^2.1.4",
      "model_name": "LayoutModel",
      "state": {
       "align_content": "",
       "align_self": "",
       "border": "",
       "bottom": "",
       "flex": "",
       "height": "",
       "justify_content": "",
       "left": "",
       "margin": "",
       "max_height": "",
       "max_width": "",
       "min_height": "",
       "min_width": "",
       "msg_throttle": 3,
       "overflow": "",
       "overflow_x": "",
       "overflow_y": "",
       "padding": "",
       "right": "",
       "top": "",
       "visibility": ""
      }
     },
     "d9d4ba70-4607-49f5-a97d-a98cba713f87": {
      "model_module": "jupyter-js-widgets",
      "model_module_version": "^2.1.4",
      "model_name": "LayoutModel",
      "state": {
       "align_content": "",
       "align_self": "",
       "border": "",
       "bottom": "",
       "flex": "",
       "height": "",
       "justify_content": "",
       "left": "",
       "margin": "",
       "max_height": "",
       "max_width": "",
       "min_height": "",
       "min_width": "",
       "msg_throttle": 3,
       "overflow": "",
       "overflow_x": "",
       "overflow_y": "",
       "padding": "",
       "right": "",
       "top": "",
       "visibility": ""
      }
     },
     "e215bc97-d122-44e6-aa65-26fb92ea6b50": {
      "model_module": "jupyter-js-widgets",
      "model_module_version": "^2.1.4",
      "model_name": "LayoutModel",
      "state": {
       "align_content": "",
       "align_self": "",
       "border": "",
       "bottom": "",
       "flex": "",
       "height": "",
       "justify_content": "",
       "left": "",
       "margin": "",
       "max_height": "",
       "max_width": "",
       "min_height": "",
       "min_width": "",
       "msg_throttle": 3,
       "overflow": "",
       "overflow_x": "",
       "overflow_y": "",
       "padding": "",
       "right": "",
       "top": "",
       "visibility": ""
      }
     },
     "e457f6c1-6751-4bd5-9b19-ffc46ba021ca": {
      "model_module": "jupyter-js-widgets",
      "model_module_version": "^2.1.4",
      "model_name": "LayoutModel",
      "state": {
       "align_content": "",
       "align_self": "",
       "border": "",
       "bottom": "",
       "flex": "",
       "height": "",
       "justify_content": "",
       "left": "",
       "margin": "",
       "max_height": "",
       "max_width": "",
       "min_height": "",
       "min_width": "",
       "msg_throttle": 3,
       "overflow": "",
       "overflow_x": "",
       "overflow_y": "",
       "padding": "",
       "right": "",
       "top": "",
       "visibility": ""
      }
     },
     "e59a645c-60f6-43ca-9661-4c46b02caac9": {
      "model_module": "jupyter-js-widgets",
      "model_module_version": "^2.1.4",
      "model_name": "ToggleButtonsModel",
      "state": {
       "_options_labels": [
        "Slow",
        "Regular",
        "Fast"
       ],
       "background_color": null,
       "button_style": "success",
       "color": null,
       "description": "Speed:",
       "font_family": "",
       "font_size": "",
       "font_style": "",
       "font_weight": "",
       "icons": [
        "check",
        "check",
        "check"
       ],
       "layout": "IPY_MODEL_d54a5e42-3795-449e-b09b-eda2264d53d7",
       "msg_throttle": 3,
       "tooltips": [
        "SL",
        "RE",
        "Fast"
       ],
       "value": null,
       "visible": true
      }
     },
     "e5f6fb1a-b813-4e40-90e4-f3711f6c5d6b": {
      "model_module": "jupyter-js-widgets",
      "model_module_version": "^2.1.4",
      "model_name": "LabelModel",
      "state": {
       "background_color": null,
       "color": null,
       "font_family": "",
       "font_size": "",
       "font_style": "",
       "font_weight": "",
       "layout": "IPY_MODEL_9f7ff1df-f003-4000-8046-3bd676dba523",
       "msg_throttle": 3,
       "placeholder": "",
       "value": "$$\\frac{n!}{k!(n-k)!} = \\binom{n}{k}$$",
       "visible": true
      }
     },
     "e70ff60f-5b57-4271-8fdf-222d52f7526c": {
      "model_module": "jupyter-js-widgets",
      "model_module_version": "^2.1.4",
      "model_name": "LinkModel",
      "state": {
       "source": [
        "IPY_MODEL_effb96f4-83d1-4085-aaf5-782cda9d4d4a",
        "value"
       ],
       "target": [
        "IPY_MODEL_8a81f234-9869-469b-9a01-c6612fc19699",
        "value"
       ]
      }
     },
     "e7653440-6a15-4a9d-85ba-929d758822e6": {
      "model_module": "jupyter-js-widgets",
      "model_module_version": "^2.1.4",
      "model_name": "LayoutModel",
      "state": {
       "align_content": "",
       "align_self": "",
       "border": "",
       "bottom": "",
       "flex": "",
       "height": "",
       "justify_content": "",
       "left": "",
       "margin": "",
       "max_height": "",
       "max_width": "",
       "min_height": "",
       "min_width": "",
       "msg_throttle": 3,
       "overflow": "",
       "overflow_x": "",
       "overflow_y": "",
       "padding": "",
       "right": "",
       "top": "",
       "visibility": ""
      }
     },
     "eaefcb09-cf64-42a1-8369-a00ca613eedc": {
      "model_module": "jupyter-js-widgets",
      "model_module_version": "^2.1.4",
      "model_name": "HTMLMathModel",
      "state": {
       "background_color": null,
       "color": null,
       "font_family": "",
       "font_size": "",
       "font_style": "",
       "font_weight": "",
       "layout": "IPY_MODEL_904d547e-f180-4161-bcf1-7ad8bce14953",
       "msg_throttle": 3,
       "placeholder": "",
       "value": "$x^2$ and $$\\frac{x+1}{x-1}$$",
       "visible": true
      }
     },
     "eaf0981e-5a91-41d7-8e19-95d9459112fd": {
      "model_module": "jupyter-js-widgets",
      "model_module_version": "^2.1.4",
      "model_name": "FloatSliderModel",
      "state": {
       "_range": true,
       "background_color": null,
       "color": null,
       "font_family": "",
       "font_size": "",
       "font_style": "",
       "font_weight": "",
       "layout": "IPY_MODEL_d9d4ba70-4607-49f5-a97d-a98cba713f87",
       "msg_throttle": 3,
       "value": [
        10,
        40
       ],
       "visible": true
      }
     },
     "ec3ef273-b6bc-4e09-965a-ae8a19a7b031": {
      "model_module": "jupyter-js-widgets",
      "model_module_version": "^2.1.4",
      "model_name": "LayoutModel",
      "state": {
       "align_content": "",
       "align_self": "",
       "border": "",
       "bottom": "",
       "flex": "",
       "height": "",
       "justify_content": "",
       "left": "",
       "margin": "",
       "max_height": "",
       "max_width": "",
       "min_height": "",
       "min_width": "",
       "msg_throttle": 3,
       "overflow": "",
       "overflow_x": "",
       "overflow_y": "",
       "padding": "",
       "right": "",
       "top": "",
       "visibility": ""
      }
     },
     "eea46921-93c8-400f-ad8f-25ae07078968": {
      "model_module": "jupyter-js-widgets",
      "model_module_version": "^2.1.4",
      "model_name": "LayoutModel",
      "state": {
       "align_content": "",
       "align_self": "",
       "border": "",
       "bottom": "",
       "flex": "",
       "height": "",
       "justify_content": "",
       "left": "",
       "margin": "",
       "max_height": "",
       "max_width": "",
       "min_height": "",
       "min_width": "",
       "msg_throttle": 3,
       "overflow": "",
       "overflow_x": "",
       "overflow_y": "",
       "padding": "",
       "right": "",
       "top": "",
       "visibility": ""
      }
     },
     "effb96f4-83d1-4085-aaf5-782cda9d4d4a": {
      "model_module": "jupyter-js-widgets",
      "model_module_version": "^2.1.4",
      "model_name": "PlayModel",
      "state": {
       "background_color": null,
       "color": null,
       "font_family": "",
       "font_size": "",
       "font_style": "",
       "font_weight": "",
       "layout": "IPY_MODEL_e457f6c1-6751-4bd5-9b19-ffc46ba021ca",
       "msg_throttle": 3,
       "value": 50,
       "visible": true
      }
     },
     "f0a63683-d937-4220-bd0e-48d26d6bf6fb": {
      "model_module": "jupyter-js-widgets",
      "model_module_version": "^2.1.4",
      "model_name": "LayoutModel",
      "state": {
       "align_content": "",
       "align_self": "",
       "border": "",
       "bottom": "",
       "flex": "",
       "height": "",
       "justify_content": "",
       "left": "",
       "margin": "",
       "max_height": "",
       "max_width": "",
       "min_height": "",
       "min_width": "",
       "msg_throttle": 3,
       "overflow": "",
       "overflow_x": "",
       "overflow_y": "",
       "padding": "",
       "right": "",
       "top": "",
       "visibility": ""
      }
     },
     "f311c7b7-f658-468a-ac5b-920f208890b4": {
      "model_module": "jupyter-js-widgets",
      "model_module_version": "^2.1.4",
      "model_name": "FloatSliderModel",
      "state": {
       "background_color": null,
       "color": null,
       "font_family": "",
       "font_size": "",
       "font_style": "",
       "font_weight": "",
       "layout": "IPY_MODEL_b5181cce-78a3-4824-8abe-87cd12b9c105",
       "msg_throttle": 3,
       "step": 0.1,
       "value": 22.2,
       "visible": true
      }
     },
     "f338ceed-d302-47eb-8457-19fc248fd8bc": {
      "model_module": "jupyter-js-widgets",
      "model_module_version": "^2.1.4",
      "model_name": "LayoutModel",
      "state": {
       "align_content": "",
       "align_self": "",
       "border": "",
       "bottom": "",
       "flex": "",
       "height": "",
       "justify_content": "",
       "left": "",
       "margin": "",
       "max_height": "",
       "max_width": "",
       "min_height": "",
       "min_width": "",
       "msg_throttle": 3,
       "overflow": "",
       "overflow_x": "",
       "overflow_y": "",
       "padding": "",
       "right": "",
       "top": "",
       "visibility": ""
      }
     },
     "f61fa572-c7ac-4c2d-98da-16fd6c56c7ed": {
      "model_module": "jupyter-js-widgets",
      "model_module_version": "^2.1.4",
      "model_name": "LayoutModel",
      "state": {
       "align_content": "",
       "align_self": "",
       "border": "",
       "bottom": "",
       "flex": "",
       "height": "",
       "justify_content": "",
       "left": "",
       "margin": "",
       "max_height": "",
       "max_width": "",
       "min_height": "",
       "min_width": "",
       "msg_throttle": 3,
       "overflow": "",
       "overflow_x": "",
       "overflow_y": "",
       "padding": "",
       "right": "",
       "top": "",
       "visibility": ""
      }
     },
     "f8c1a6da-3bb3-42f1-b373-89fc39abc5e2": {
      "model_module": "jupyter-js-widgets",
      "model_module_version": "^2.1.4",
      "model_name": "LayoutModel",
      "state": {
       "align_content": "",
       "align_self": "",
       "border": "",
       "bottom": "",
       "flex": "",
       "height": "",
       "justify_content": "",
       "left": "",
       "margin": "",
       "max_height": "",
       "max_width": "",
       "min_height": "",
       "min_width": "",
       "msg_throttle": 3,
       "overflow": "",
       "overflow_x": "",
       "overflow_y": "",
       "padding": "",
       "right": "",
       "top": "",
       "visibility": ""
      }
     },
     "fbab2eba-7460-49c0-8bdf-9051ffaa8846": {
      "model_module": "beakerx",
      "model_module_version": "^2.1.4",
      "model_name": "TextModel",
      "state": {
       "background_color": null,
       "color": null,
       "font_family": "",
       "font_size": "",
       "font_style": "",
       "font_weight": "",
       "layout": "IPY_MODEL_6d241eb8-f971-43e9-b6de-ac140cf926dc",
       "msg_throttle": 3,
       "placeholder": "",
       "value": "Text example 2",
       "visible": true
      }
     },
     "ff68e5d0-034e-4dec-8aca-82cdff91e6b9": {
      "model_module": "jupyter-js-widgets",
      "model_module_version": "^2.1.4",
      "model_name": "ValidModel",
      "state": {
       "background_color": null,
       "color": null,
       "description": "Valid!",
       "font_family": "",
       "font_size": "",
       "font_style": "",
       "font_weight": "",
       "layout": "IPY_MODEL_61878c4d-058f-49a0-b93e-83773743854c",
       "msg_throttle": 3,
       "readout": true,
       "value": true,
       "visible": true
      }
     }
    },
    "version_major": 1,
    "version_minor": 0
   }
  }
 },
 "nbformat": 4,
 "nbformat_minor": 1
}
