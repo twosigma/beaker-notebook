{
 "cells": [
  {
   "cell_type": "code",
   "execution_count": null,
   "metadata": {},
   "outputs": [],
   "source": [
    "%classpath add jar resources/jar/loadMagicJarDemo.jar"
   ]
  },
  {
   "cell_type": "markdown",
   "metadata": {},
   "source": [
    "Source code of ShowEvnsCustomMagicCommand class\n",
    "```java\n",
    "package com.twosigma.beakerx.custom.magic.command;\n",
    "\n",
    "import com.twosigma.beakerx.kernel.magic.command.MagicCommandExecutionParam;\n",
    "import com.twosigma.beakerx.kernel.magic.command.MagicCommandFunctionality;\n",
    "import com.twosigma.beakerx.kernel.magic.command.functionality.MagicCommandUtils;\n",
    "import com.twosigma.beakerx.kernel.magic.command.outcome.MagicCommandOutcomeItem;\n",
    "import com.twosigma.beakerx.kernel.magic.command.outcome.MagicCommandOutput;\n",
    "import com.twosigma.beakerx.mimetype.MIMEContainer;\n",
    "\n",
    "import static com.twosigma.beakerx.mimetype.MIMEContainer.Text;\n",
    "\n",
    "public class ShowEvnsCustomMagicCommand implements MagicCommandFunctionality {\n",
    "\n",
    "  private static final String SHOW_ENVS = \"%showEnvs\";\n",
    "\n",
    "  @Override\n",
    "  public String getMagicCommandName() {\n",
    "    return SHOW_ENVS;\n",
    "  }\n",
    "\n",
    "  @Override\n",
    "  public boolean matchCommand(String command) {\n",
    "    String[] commandParts = MagicCommandUtils.splitPath(command);\n",
    "    return commandParts.length > 0 && commandParts[0].equals(SHOW_ENVS);\n",
    "  }\n",
    "\n",
    "  @Override\n",
    "  public MagicCommandOutcomeItem execute(MagicCommandExecutionParam param) {\n",
    "    MIMEContainer result = Text(System.getenv());\n",
    "    return new MagicCommandOutput(MagicCommandOutcomeItem.Status.OK, result.getData().toString());\n",
    "  }\n",
    "\n",
    "}\n",
    "```"
   ]
  },
  {
   "cell_type": "code",
   "execution_count": null,
   "metadata": {},
   "outputs": [],
   "source": [
    "%load_magic com.twosigma.beakerx.custom.magic.command.ShowEvnsCustomMagicCommand"
   ]
  },
  {
   "cell_type": "code",
   "execution_count": null,
   "metadata": {},
   "outputs": [],
   "source": [
    "%showEnvs"
   ]
  }
 ],
 "metadata": {
  "kernelspec": {
   "display_name": "Groovy",
   "language": "groovy",
   "name": "groovy"
  },
  "language_info": {
   "codemirror_mode": "groovy",
   "file_extension": ".groovy",
   "mimetype": "",
   "name": "Groovy",
   "nbconverter_exporter": "",
   "version": "2.4.3"
  }
 },
 "nbformat": 4,
 "nbformat_minor": 2
}
