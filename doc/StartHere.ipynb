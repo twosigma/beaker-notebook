{
 "cells": [
  {
   "cell_type": "markdown",
   "metadata": {},
   "source": [
    "# Tutorials, Examples, and Demos"
   ]
  },
  {
   "cell_type": "markdown",
   "metadata": {},
   "source": [
    "[Jupyter](http://jupyter.org/) and [BeakerX](http://beakerx.com/) are based on the idea of the lab notebook, brought to life in your web browser. Each notebook is a place for recording the written ideas, data, images, spreadsheets, diagrams, equations, and especially code, that one produces in the course of research. You can analyze, visualize, and document data and science, using multiple programming languages.  BeakerX is an extension of Jupyter, including kernels for the JVM langauges, autotranslation between languages, interactive plots, tables, and more.\n",
    "\n",
    "This is an beta release. There are known issues, please see our [issue tracker](https://github.com/twosigma/beakerx/issues). Your [email feedback](mailto:beakerx-feedback@twosigma.com) is most welcome as it guides development and helps us improve.\n",
    "\n",
    "[The Jupyter documentation](http://jupyter-notebook.readthedocs.io/en/latest/examples/Notebook/Running%20Code.html) covers interacting with code cells, markdown, and notebooks. The tutorials below show the features of the BeakerX extension.\n",
    "\n",
    "### Languages\n",
    "[Groovy](contents/GroovyExamples.ipynb), [Java](contents/javaTutorial.ipynb), [Scala](contents/scala/scala.ipynb), [Clojure](contents/ClojureTutorial.ipynb), [SQL](contents/SQLExamples.ipynb), [Kotlin](contents/Kotlin-example.ipynb).\n",
    "\n",
    "### Magics\n",
    "[Timing](contents/TimeExecutionMeasurementWithMagicCommands.ipynb), [Class Path and Imports](contents/GroovyAddJarToClasspathMagicCommands.ipynb), [Properties, Heap Size and other JVM parameters](contents/java_args.ipynb).\n",
    "\n",
    "### Autotranslation\n",
    "[Python](contents/autotranslation_python.ipynb), [Groovy](contents/autotranslation_groovy_demo.ipynb)\n",
    "\n",
    "### Groovy Plotting and Charting\n",
    "[Example and Interaction](contents/chartingTutorial.ipynb), [Time Series and General APIs and Features](contents/PlotFeatures.ipynb), [Category Plots and Bar Charts](contents/categoryPlot.ipynb), [Levels of Detail](contents/levelsOfDetails.ipynb), [Histograms](contents/histogram.ipynb), [Heatmaps](contents/heatmap.ipynb), [Treemaps](contents/treemap.ipynb), [Plot Actions](contents/plotActions.ipynb), [Plot Seamless Updates](contents/Plots_python_style.ipynb), [Second Y Axis](contents/2ndYaxis.ipynb).\n",
    "\n",
    "### Table Display\n",
    "[Groovy API including Actions](contents/tableApi.ipynb), [64-Bit Integers and BigNums](contents/bigInts.ipynb), [Automatic Display of Simple Data Structures](contents/MapLikeTable_GroovyExample.ipynb), [Handling of Large Tables](contents/big_table_test.ipynb).\n",
    "\n",
    "### BeakerX Plotting in Other Languages\n",
    "[JavaScript](contents/plot-js-api.ipynb), [Python](contents/pythonChartingAPI.ipynb), [Scala](contents/scala/plotScalaDemo.ipynb).\n",
    "\n",
    "### Python\n",
    "\n",
    "[Tables including pandas integration](contents/tableApi_python.ipynb), [Time Series](contents/pythonChartingAPI.ipynb), [Heatmaps](contents/heatmap_python.ipynb),  [Category Plots](contents/categoryPlot_python.ipynb), [Treemaps](contents/treemap_python.ipynb), [Histograms](contents/histogram_python.ipynb), [EasyForm](contents/EasyFormPythonDemos.ipynb).\n",
    "\n",
    "### Scala\n",
    "[Tables](contents/scala/tableApiScala.ipynb), [Plotting](contents/scala/plotScalaDemo.ipynb), [EasyForm](contents/scala/EasyFormScalaDemos.ipynb).\n",
    "\n",
    "### Media Outputs and Displayer Customization\n",
    "\n",
    "[Media and MIME Outputs](contents/mimeDemo.ipynb), [Display of Null](contents/showNullExecutionResult.ipynb), [Custom Displayers and `jvm-repr`](contents/JVM_repr_example.ipynb).\n",
    "\n",
    "### Forms, Widgets, and Interaction\n",
    "[EasyForm](contents/EasyFormDemos.ipynb), [Output Containers and Layout Managers](contents/OutputContainersAndLayoutManagers.ipynb), [Groovy interface to Jupyter JS Widgets](contents/JavaWidgets.ipynb), [Interactive recomputation](contents/interactive.ipynb)\n",
    "\n",
    "### Automation\n",
    "[Progress Reporting API](contents/ProgressUpdateReporting.ipynb), [Initialization Cells](contents/init-cells.ipynb).\n",
    "\n",
    "### Tablesaw\n",
    "[Tablesaw](contents/tablesawDemo.ipynb), [Automatic Display for Tablesaw](contents/Tablesaw_display_as_TableDisplay.ipynb)\n",
    "\n",
    "## Learn More\n",
    "On the web at the homepage [BeakerNotebook.com](http://beakernotebook.com), on [GitHub](https://github.com/twosigma/beakerx), and on [Two Sigma's Open Source site](http://opensource.twosigma.com/).\n",
    "\n",
    "## Open Source\n",
    "BeakerX's full source code and documentation are available on [GitHub](https://github.com/twosigma/beakerx) under the Apache 2.0 license."
   ]
  }
 ],
 "metadata": {
  "kernelspec": {
   "display_name": "Python 3",
   "language": "python",
   "name": "python3"
  },
  "language_info": {
   "codemirror_mode": {
    "name": "ipython",
    "version": 3
   },
   "file_extension": ".py",
   "mimetype": "text/x-python",
   "name": "python",
   "nbconvert_exporter": "python",
   "pygments_lexer": "ipython3",
   "version": "3.5.4"
  }
 },
 "nbformat": 4,
 "nbformat_minor": 2
}
