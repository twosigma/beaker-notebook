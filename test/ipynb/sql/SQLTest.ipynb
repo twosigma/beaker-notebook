{
 "cells": [
  {
   "cell_type": "code",
   "execution_count": null,
   "metadata": {},
   "outputs": [],
   "source": [
    "%defaultDatasource jdbc:h2:mem:db1\n",
    "%datasources chemistry=jdbc:h2:mem:chemistry"
   ]
  },
  {
   "cell_type": "code",
   "execution_count": null,
   "metadata": {},
   "outputs": [],
   "source": [
    "drop table if exists color;\n",
    "CREATE TABLE color (\n",
    "  id int(11) NOT NULL,\n",
    "  name varchar(45) NOT NULL,\n",
    "  code varchar(10),\n",
    "  PRIMARY KEY (id)\n",
    ");\n",
    "\n",
    "INSERT INTO color (id, name, code) VALUES (1001,'AliceBlue','#F0F8FF');\n",
    "INSERT INTO color (id, name, code) VALUES (1002,'AntiqueWhite','#FAEBD7');\n",
    "INSERT INTO color (id, name, code) VALUES (1003,'Aqua','#00FFFF');\n",
    "INSERT INTO color (id, name, code) VALUES (1004,'Aquamarine','#7FFFD4');\n",
    "INSERT INTO color (id, name, code) VALUES (1005,'Azure','#F0FFFF');\n",
    "INSERT INTO color (id, name, code) VALUES (1006,'Beige','#F5F5DC');\n",
    "INSERT INTO color (id, name, code) VALUES (1007,'Bisque','#FFE4C4');\n",
    "INSERT INTO color (id, name, code) VALUES (1008,'Black','#000000');"
   ]
  },
  {
   "cell_type": "code",
   "execution_count": null,
   "metadata": {},
   "outputs": [],
   "source": [
    "SELECT * FROM color WHERE name LIKE 'A%';"
   ]
  },
  {
   "cell_type": "code",
   "execution_count": null,
   "metadata": {},
   "outputs": [],
   "source": []
  },
  {
   "cell_type": "markdown",
   "metadata": {},
   "source": [
    "press 'Shift' + 'Tab' for doc"
   ]
  },
  {
   "cell_type": "code",
   "execution_count": null,
   "metadata": {},
   "outputs": [],
   "source": []
  },
  {
   "cell_type": "code",
   "execution_count": null,
   "metadata": {},
   "outputs": [],
   "source": []
  }
 ],
 "metadata": {
  "kernelspec": {
   "display_name": "SQL",
   "language": "SQL",
   "name": "sql"
  },
  "language_info": {
   "codemirror_mode": "sql",
   "file_extension": ".sql",
   "mimetype": "",
   "name": "SQL",
   "nbconverter_exporter": "",
   "version": ""
  }
 },
 "nbformat": 4,
 "nbformat_minor": 2
}
