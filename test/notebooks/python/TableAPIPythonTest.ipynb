{
 "cells": [
  {
   "cell_type": "code",
   "execution_count": null,
   "metadata": {},
   "outputs": [],
   "source": [
    "from beakerx import *\n",
    "\n",
    "TableDisplay({\"a\":100, \"b\":200, \"c\":300})"
   ]
  },
  {
   "cell_type": "code",
   "execution_count": null,
   "metadata": {},
   "outputs": [],
   "source": [
    "TableDisplay([{\"a\":1}, {\"a\":10, \"b\":20}])"
   ]
  },
  {
   "cell_type": "code",
   "execution_count": null,
   "metadata": {},
   "outputs": [],
   "source": [
    "TableDisplay({\"a\":1/10, \"b\":1/20, \"c\":0.33})"
   ]
  },
  {
   "cell_type": "code",
   "execution_count": null,
   "metadata": {},
   "outputs": [],
   "source": [
    "TableDisplay([{\"a\":1/10}, {\"a\":1/100, \"b\":3.12345}])"
   ]
  },
  {
   "cell_type": "code",
   "execution_count": null,
   "metadata": {},
   "outputs": [],
   "source": [
    "TableDisplay({\"a\":'a a a', \"b\":'b b b', \"c\":'c c c'})"
   ]
  },
  {
   "cell_type": "code",
   "execution_count": null,
   "metadata": {},
   "outputs": [],
   "source": [
    "TableDisplay([{\"a\":'a'}, {\"a\":'1a', \"b\":'2b'}])"
   ]
  },
  {
   "cell_type": "code",
   "execution_count": null,
   "metadata": {},
   "outputs": [],
   "source": [
    "TableDisplay({\"a\":[1, 2, 3], \"b\":[10, 20, 30], \"c\":[100, 200, 300]})"
   ]
  },
  {
   "cell_type": "code",
   "execution_count": null,
   "metadata": {},
   "outputs": [],
   "source": [
    "TableDisplay([\n",
    "    {\"a\":[1, 2, 3]}, \n",
    "    {\"a\":[10, 20, 30], \"b\":[100, 200, 300]}])"
   ]
  },
  {
   "cell_type": "code",
   "execution_count": null,
   "metadata": {},
   "outputs": [],
   "source": [
    "row1 = {\"a\":100, \"b\":200, \"c\":300}\n",
    "row2 = {\"a\":1/10, \"b\":1/20, \"c\":0.33}\n",
    "row3 = {\"a\":'a a a', \"b\":'b b b', \"c\":'c c c'}\n",
    "row4 = {\"a\":[1, 2, 3], \"b\":[10, 20, 30], \"c\":[100, 200, 300]}\n",
    "TableDisplay([row1, row2, row3, row4])"
   ]
  },
  {
   "cell_type": "code",
   "execution_count": null,
   "metadata": {},
   "outputs": [],
   "source": [
    "TableDisplay({\"a\":100, \"b\":1/20, \"c\":'c c c', \"d\":[100, 200, 300]})"
   ]
  },
  {
   "cell_type": "code",
   "execution_count": null,
   "metadata": {},
   "outputs": [],
   "source": [
    "row1 = {\"a\":10, \"b\":1/10, \"c\":'c', \"d\":[100, 200]}\n",
    "row2 = {\"a\":100, \"b\":1/20, \"c\":'c c c', \"d\":[100, 200, 300]}\n",
    "TableDisplay([row1, row2])"
   ]
  },
  {
   "cell_type": "code",
   "execution_count": null,
   "metadata": {},
   "outputs": [],
   "source": [
    "TableDisplay({10:20, 1/10:1/20, 'c':'c c c', '[100, 200]':[100, 200, 300]})"
   ]
  },
  {
   "cell_type": "code",
   "execution_count": null,
   "metadata": {},
   "outputs": [],
   "source": [
    "row1 = {10:10, 1/10:1/10, 'c':'c'}\n",
    "row2 = {10:20, 1/10:1/20, 'c':'c c c', '[100, 200]':[100, 200, 300]}\n",
    "TableDisplay([row1, row2])"
   ]
  },
  {
   "cell_type": "code",
   "execution_count": null,
   "metadata": {},
   "outputs": [],
   "source": [
    "import pandas as pd\n",
    "from beakerx import *\n",
    "\n",
    "df = pd.DataFrame({\"runway\": [\"24\", \"36L\"]})\n",
    "\n",
    "TableDisplay(df)"
   ]
  },
  {
   "cell_type": "code",
   "execution_count": null,
   "metadata": {},
   "outputs": [],
   "source": []
  }
 ],
 "metadata": {
  "kernelspec": {
   "display_name": "Python 3",
   "language": "python",
   "name": "python3"
  },
  "language_info": {
   "codemirror_mode": {
    "name": "ipython",
    "version": 3
   },
   "file_extension": ".py",
   "mimetype": "text/x-python",
   "name": "python",
   "nbconvert_exporter": "python",
   "pygments_lexer": "ipython3",
   "version": "3.6.2"
  }
 },
 "nbformat": 4,
 "nbformat_minor": 2
}
