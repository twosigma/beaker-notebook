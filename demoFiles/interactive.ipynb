{
 "cells": [
  {
   "cell_type": "code",
   "execution_count": 1,
   "metadata": {
    "collapsed": false,
    "deletable": true,
    "editable": true
   },
   "outputs": [
    {
     "data": {
      "text/plain": [
       "Fddd ABC"
      ]
     },
     "metadata": {},
     "output_type": "display_data"
    }
   ],
   "source": [
    "public Object f(x){\n",
    "    return x + \" ABC\";\n",
    "}\n",
    "\n",
    "com.twosigma.beaker.groovy.widgets.Interactive.interact(this.&f, \"F\");"
   ]
  },
  {
   "cell_type": "code",
   "execution_count": 2,
   "metadata": {
    "collapsed": false,
    "deletable": true,
    "editable": true
   },
   "outputs": [
    {
     "data": {
      "text/plain": [
       "null"
      ]
     },
     "execution_count": 2,
     "metadata": {},
     "output_type": "execute_result"
    }
   ],
   "source": [
    "public Object f(x){\n",
    "    return x + 2;\n",
    "}\n",
    "\n",
    "com.twosigma.beaker.groovy.widgets.Interactive.interact(this.&f, 10d);"
   ]
  },
  {
   "cell_type": "code",
   "execution_count": 3,
   "metadata": {
    "collapsed": false,
    "deletable": true,
    "editable": true
   },
   "outputs": [
    {
     "data": {
      "text/plain": [
       "null"
      ]
     },
     "execution_count": 3,
     "metadata": {},
     "output_type": "execute_result"
    }
   ],
   "source": [
    "public Object f(x){\n",
    "    return x + 2;\n",
    "}\n",
    "\n",
    "com.twosigma.beaker.groovy.widgets.Interactive.interact(this.&f, 10);"
   ]
  },
  {
   "cell_type": "code",
   "execution_count": 4,
   "metadata": {
    "collapsed": false,
    "deletable": true,
    "editable": true
   },
   "outputs": [
    {
     "data": {
      "text/plain": [
       "null"
      ]
     },
     "execution_count": 4,
     "metadata": {},
     "output_type": "execute_result"
    }
   ],
   "source": [
    "public Object f(x){\n",
    "    return !x;\n",
    "}\n",
    "\n",
    "com.twosigma.beaker.groovy.widgets.Interactive.interact(this.&f, true);"
   ]
  },
  {
   "cell_type": "code",
   "execution_count": 7,
   "metadata": {
    "collapsed": false,
    "deletable": true,
    "editable": true
   },
   "outputs": [
    {
     "data": {
      "text/plain": [
       "null"
      ]
     },
     "execution_count": 7,
     "metadata": {},
     "output_type": "execute_result"
    }
   ],
   "source": [
    "public Object f(x, y){\n",
    "    return [x + 2, y + 4];\n",
    "}\n",
    "\n",
    "com.twosigma.beaker.groovy.widgets.Interactive.interact(this.&f, 10, 100);"
   ]
  },
  {
   "cell_type": "code",
   "execution_count": 17,
   "metadata": {
    "collapsed": false,
    "deletable": true,
    "editable": true
   },
   "outputs": [
    {
     "data": {
      "text/plain": [
       "[17, abc 0]"
      ]
     },
     "metadata": {},
     "output_type": "display_data"
    }
   ],
   "source": [
    "public Object d(x, y){\n",
    "    return [x + 2, \"abc \" + y];\n",
    "}\n",
    "\n",
    "com.twosigma.beaker.groovy.widgets.Interactive.interact(this.&d, 10, \"0\");"
   ]
  },
  {
   "cell_type": "code",
   "execution_count": 4,
   "metadata": {
    "collapsed": false,
    "deletable": true,
    "editable": true
   },
   "outputs": [
    {
     "data": {
      "text/plain": [
       "null"
      ]
     },
     "execution_count": 4,
     "metadata": {},
     "output_type": "execute_result"
    }
   ],
   "source": [
    "import static com.twosigma.beaker.widgets.DisplayWidget.display;\n",
    "import static com.twosigma.beaker.groovy.widgets.Interactive.interact;\n",
    "\n",
    "class PlotHolder{\n",
    "    static Plot plot = new Plot(title: \"A\")\n",
    "}\n",
    "\n",
    "public static Object f(x){\n",
    "    PlotHolder.plot.title = x;\n",
    "    //println PlotHolder.plot.hashCode()\n",
    "    PlotHolder.plot\n",
    "}\n",
    "\n",
    "interact(this.&f, \"s\");"
   ]
  },
  {
   "cell_type": "code",
   "execution_count": 9,
   "metadata": {
    "collapsed": false
   },
   "outputs": [
    {
     "data": {
      "text/plain": [
       "sxddd"
      ]
     },
     "metadata": {},
     "output_type": "display_data"
    }
   ],
   "source": [
    "import static com.twosigma.beaker.groovy.widgets.Interactive.interact;\n",
    "\n",
    "public Object f(x){\n",
    "    println \"Hello World !!!\"\n",
    "    return x\n",
    "}\n",
    "\n",
    "interact(this.&f, \"s\");"
   ]
  },
  {
   "cell_type": "code",
   "execution_count": null,
   "metadata": {
    "collapsed": true
   },
   "outputs": [],
   "source": []
  }
 ],
 "metadata": {
  "classpath": [],
  "imports": [
   "com.github.lwhite1.tablesaw.api.ml.regression.*",
   "com.twosigma.beaker.chart.Color",
   "com.github.lwhite1.tablesaw.api.*",
   "com.twosigma.beaker.NamespaceClient",
   "com.github.lwhite1.tablesaw.filtering.*",
   "com.twosigma.beaker.BeakerProgressUpdate",
   "com.twosigma.beaker.chart.histogram.*",
   "static com.github.lwhite1.tablesaw.api.QueryHelper.*",
   "com.twosigma.beaker.chart.heatmap.HeatMap",
   "com.twosigma.beaker.chart.xychart.*",
   "com.github.lwhite1.tablesaw.api.ml.clustering.*",
   "com.twosigma.beaker.chart.Filter",
   "static java.lang.Math.*",
   "java.util.concurrent.TimeUnit",
   "com.twosigma.beaker.chart.categoryplot.plotitem.*",
   "com.twosigma.beaker.chart.categoryplot.*",
   "com.twosigma.beaker.chart.xychart.plotitem.*",
   "com.twosigma.beaker.chart.KeyboardCodes",
   "com.twosigma.beaker.chart.GradientColor",
   "com.github.lwhite1.tablesaw.columns.*",
   "com.twosigma.beaker.chart.legend.*",
   "com.github.lwhite1.tablesaw.reducing.*"
  ],
  "kernelspec": {
   "display_name": "Groovy",
   "language": "groovy",
   "name": "groovy"
  },
  "language_info": {
   "codemirror_mode": "groovy",
   "file_extension": ".groovy",
   "mimetype": "",
   "name": "Groovy",
   "nbconverter_exporter": "",
   "pygments_lexer": "",
   "version": "2.4.3"
  },
  "widgets": {
   "state": {
    "8e031bec-8956-4228-9da0-77339eee6003": {
     "views": [
      {
       "cell_index": 0
      }
     ]
    }
   },
   "version": "1.2.0"
  }
 },
 "nbformat": 4,
 "nbformat_minor": 2
}
