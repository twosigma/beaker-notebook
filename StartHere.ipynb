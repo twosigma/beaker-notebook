{
 "cells": [
  {
   "cell_type": "markdown",
   "metadata": {},
   "source": [
    "# Tutorials, Examples, and Demos\n",
    "\n",
    "[Jupyter](http://jupyter.org/) and [BeakerX](http://beakerx.com/) are based on the idea of the lab notebook, brought to life in your web browser. Each notebook is a place for recording the written ideas, data, images, spreadsheets, diagrams, equations, and especially code, that one produces in the course of research. You can analyze, visualize, and document data and science, using multiple programming languages.  BeakerX is an extension of Jupyter, including kernels for the JVM langauges, autotranslation between languages, interactive plots, tables, and more.\n",
    "\n",
    "This is a beta release. There are known issues, please see our [issue tracker](https://github.com/twosigma/beakerx/issues). Your [email feedback](mailto:beakerx-feedback@twosigma.com) is most welcome as it guides development and helps us improve.\n",
    "\n",
    "[The Jupyter documentation](http://jupyter-notebook.readthedocs.io/en/latest/examples/Notebook/Running%20Code.html) covers interacting with code cells, markdown, and notebooks. The tutorials below show the features of the BeakerX extension.\n",
    "\n",
    "### Languages\n",
    "[Groovy](doc/groovy/Main.ipynb), [Java](doc/java/Main.ipynb), [Scala](doc/scala/Main.ipynb), [Clojure](doc/clojure/Main.ipynb), [SQL](doc/sql/Main.ipynb), [Kotlin](doc/kotlin/Main.ipynb).\n",
    "\n",
    "### Magics\n",
    "[Timing](doc/groovy/TimeExecutionMeasurementWithMagicCommands.ipynb), [Classpath and Imports](doc/groovy/AddJarToClasspathMagicCommands.ipynb), [Properties, Heap Size and other JVM parameters](doc/groovy/JavaArgs.ipynb), [Defining New Magics](doc/groovy/LoadMagicCommand.ipynb).\n",
    "\n",
    "### Autotranslation\n",
    "[Python](doc/python/AutoTranslation.ipynb), [Groovy](doc/groovy/AutoTranslation.ipynb)\n",
    "\n",
    "### Groovy Plotting and Charting\n",
    "[Example and Interaction](doc/groovy/Charting.ipynb), [Time Series and General APIs and Features](doc/groovy/PlotFeatures.ipynb), [Category Plots and Bar Charts](doc/groovy/CategoryPlot.ipynb), [Levels of Detail](doc/groovy/LevelsOfDetails.ipynb), [Histograms](doc/groovy/Histogram.ipynb), [Heatmaps](doc/groovy/Heatmap.ipynb), [Treemaps](doc/groovy/Treemap.ipynb), [Plot Actions](doc/groovy/PlotActions.ipynb), [Plot Seamless Updates](doc/groovy/PlotsPythonStyle.ipynb), [Second Y Axis](doc/groovy/2ndYaxis.ipynb).\n",
    "\n",
    "### Table Display\n",
    "[Groovy API including Actions](doc/groovy/TableAPI.ipynb), [64-Bit Integers and BigNums](doc/groovy/BigInts.ipynb), [Automatic Display of Simple Data Structures](doc/groovy/MapLikeTable.ipynb), [Handling of Large Tables](doc/groovy/BigTable.ipynb).\n",
    "\n",
    "### BeakerX Plotting in Other Languages\n",
    "[JavaScript](doc/python/PlotJSAPI.ipynb), [Python](doc/python/ChartingAPI.ipynb), [Scala](doc/scala/Plot.ipynb).\n",
    "\n",
    "### Python\n",
    "\n",
    "[Tables including pandas integration](doc/python/TableAPI.ipynb), [Time Series](doc/python/ChartingAPI.ipynb), [Heatmaps](doc/python/Heatmap.ipynb),  [Category Plots](doc/python/CategoryPlot.ipynb), [Treemaps](doc/python/Treemap.ipynb), [Histograms](doc/python/Histogram.ipynb), [EasyForm](doc/python/EasyForm.ipynb), [Output Containers](doc/python/OutputContainersAndLayoutManagers.ipynb).\n",
    "\n",
    "### Scala\n",
    "[Tables](doc/scala/TableAPI.ipynb), [Plotting](doc/scala/Plot.ipynb), [EasyForm](doc/scala/EasyForm.ipynb).\n",
    "\n",
    "### Media Outputs and Displayer Customization\n",
    "\n",
    "[Media and MIME Outputs](doc/groovy/Mime.ipynb), [Display of Null](doc/groovy/showNullExecutionResult.ipynb), [Custom Displayers and `jvm-repr`](doc/groovy/JvmRepr.ipynb).\n",
    "\n",
    "### Forms, Widgets, and Interaction\n",
    "[EasyForm](doc/groovy/EasyForm.ipynb), [Output Containers and Layout Managers](doc/groovy/OutputContainersAndLayoutManagers.ipynb), [Groovy interface to Jupyter JS Widgets](doc/groovy/JavaWidgets.ipynb), [Interactive recomputation](doc/groovy/Interactive.ipynb).\n",
    "\n",
    "### Automation\n",
    "[Progress Reporting API](doc/groovy/ProgressUpdateReporting.ipynb), [Initialization Cells](doc/python/InitCells.ipynb), [Get Code](doc/groovy/CodeCell.ipynb).\n",
    "\n",
    "### Tablesaw\n",
    "[Tablesaw](doc/groovy/Tablesaw.ipynb) Pandas for the JVM.\n",
    "\n",
    "### Spark\n",
    "[Spark](doc/scala/Spark.ipynb) cluster computing based on Scala. \n",
    "\n",
    "### Deeplearning4j and DataVec\n",
    "[DataVec, including automatic display](doc/groovy/DataVec.ipynb).\n",
    "\n",
    "## Learn More\n",
    "On the web at the homepage [BeakerX.com](http://beakerx.com), on [GitHub](https://github.com/twosigma/beakerx), and on [Two Sigma's Open Source site](http://opensource.twosigma.com/).\n",
    "\n",
    "## Open Source\n",
    "BeakerX's full source code and documentation are available on [GitHub](https://github.com/twosigma/beakerx) under the Apache 2.0 license."
   ]
  },
  {
   "cell_type": "code",
   "execution_count": null,
   "metadata": {
    "collapsed": true
   },
   "outputs": [],
   "source": []
  }
 ],
 "metadata": {
  "kernelspec": {
   "display_name": "Python 3",
   "language": "python",
   "name": "python3"
  },
  "language_info": {
   "codemirror_mode": {
    "name": "ipython",
    "version": 3
   },
   "file_extension": ".py",
   "mimetype": "text/x-python",
   "name": "python",
   "nbconvert_exporter": "python",
   "pygments_lexer": "ipython3",
   "version": "3.6.2"
  }
 },
 "nbformat": 4,
 "nbformat_minor": 2
}
